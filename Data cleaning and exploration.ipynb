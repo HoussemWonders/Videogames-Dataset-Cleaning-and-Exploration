{
 "cells": [
  {
   "cell_type": "code",
   "execution_count": 1,
   "metadata": {},
   "outputs": [],
   "source": [
    "import numpy as np\n",
    "import pandas as pd \n",
    "import matplotlib.pyplot as plt\n",
    "import plotly.express as px\n",
    "import seaborn as sns"
   ]
  },
  {
   "cell_type": "code",
   "execution_count": 2,
   "metadata": {},
   "outputs": [],
   "source": [
    "df=pd.read_csv(\"C:/Users/DELL G15/Desktop/kaggle/videogames/games.csv\")"
   ]
  },
  {
   "cell_type": "code",
   "execution_count": 3,
   "metadata": {},
   "outputs": [
    {
     "data": {
      "text/html": [
       "<div>\n",
       "<style scoped>\n",
       "    .dataframe tbody tr th:only-of-type {\n",
       "        vertical-align: middle;\n",
       "    }\n",
       "\n",
       "    .dataframe tbody tr th {\n",
       "        vertical-align: top;\n",
       "    }\n",
       "\n",
       "    .dataframe thead th {\n",
       "        text-align: right;\n",
       "    }\n",
       "</style>\n",
       "<table border=\"1\" class=\"dataframe\">\n",
       "  <thead>\n",
       "    <tr style=\"text-align: right;\">\n",
       "      <th></th>\n",
       "      <th>Unnamed: 0</th>\n",
       "      <th>Title</th>\n",
       "      <th>Release Date</th>\n",
       "      <th>Team</th>\n",
       "      <th>Rating</th>\n",
       "      <th>Times Listed</th>\n",
       "      <th>Number of Reviews</th>\n",
       "      <th>Genres</th>\n",
       "      <th>Summary</th>\n",
       "      <th>Reviews</th>\n",
       "      <th>Plays</th>\n",
       "      <th>Playing</th>\n",
       "      <th>Backlogs</th>\n",
       "      <th>Wishlist</th>\n",
       "    </tr>\n",
       "  </thead>\n",
       "  <tbody>\n",
       "    <tr>\n",
       "      <th>0</th>\n",
       "      <td>0</td>\n",
       "      <td>Elden Ring</td>\n",
       "      <td>Feb 25, 2022</td>\n",
       "      <td>['Bandai Namco Entertainment', 'FromSoftware']</td>\n",
       "      <td>4.5</td>\n",
       "      <td>3.9K</td>\n",
       "      <td>3.9K</td>\n",
       "      <td>['Adventure', 'RPG']</td>\n",
       "      <td>Elden Ring is a fantasy, action and open world...</td>\n",
       "      <td>[\"The first playthrough of elden ring is one o...</td>\n",
       "      <td>17K</td>\n",
       "      <td>3.8K</td>\n",
       "      <td>4.6K</td>\n",
       "      <td>4.8K</td>\n",
       "    </tr>\n",
       "    <tr>\n",
       "      <th>1</th>\n",
       "      <td>1</td>\n",
       "      <td>Hades</td>\n",
       "      <td>Dec 10, 2019</td>\n",
       "      <td>['Supergiant Games']</td>\n",
       "      <td>4.3</td>\n",
       "      <td>2.9K</td>\n",
       "      <td>2.9K</td>\n",
       "      <td>['Adventure', 'Brawler', 'Indie', 'RPG']</td>\n",
       "      <td>A rogue-lite hack and slash dungeon crawler in...</td>\n",
       "      <td>['convinced this is a roguelike for people who...</td>\n",
       "      <td>21K</td>\n",
       "      <td>3.2K</td>\n",
       "      <td>6.3K</td>\n",
       "      <td>3.6K</td>\n",
       "    </tr>\n",
       "    <tr>\n",
       "      <th>2</th>\n",
       "      <td>2</td>\n",
       "      <td>The Legend of Zelda: Breath of the Wild</td>\n",
       "      <td>Mar 03, 2017</td>\n",
       "      <td>['Nintendo', 'Nintendo EPD Production Group No...</td>\n",
       "      <td>4.4</td>\n",
       "      <td>4.3K</td>\n",
       "      <td>4.3K</td>\n",
       "      <td>['Adventure', 'RPG']</td>\n",
       "      <td>The Legend of Zelda: Breath of the Wild is the...</td>\n",
       "      <td>['This game is the game (that is not CS:GO) th...</td>\n",
       "      <td>30K</td>\n",
       "      <td>2.5K</td>\n",
       "      <td>5K</td>\n",
       "      <td>2.6K</td>\n",
       "    </tr>\n",
       "    <tr>\n",
       "      <th>3</th>\n",
       "      <td>3</td>\n",
       "      <td>Undertale</td>\n",
       "      <td>Sep 15, 2015</td>\n",
       "      <td>['tobyfox', '8-4']</td>\n",
       "      <td>4.2</td>\n",
       "      <td>3.5K</td>\n",
       "      <td>3.5K</td>\n",
       "      <td>['Adventure', 'Indie', 'RPG', 'Turn Based Stra...</td>\n",
       "      <td>A small child falls into the Underground, wher...</td>\n",
       "      <td>['soundtrack is tied for #1 with nier automata...</td>\n",
       "      <td>28K</td>\n",
       "      <td>679</td>\n",
       "      <td>4.9K</td>\n",
       "      <td>1.8K</td>\n",
       "    </tr>\n",
       "    <tr>\n",
       "      <th>4</th>\n",
       "      <td>4</td>\n",
       "      <td>Hollow Knight</td>\n",
       "      <td>Feb 24, 2017</td>\n",
       "      <td>['Team Cherry']</td>\n",
       "      <td>4.4</td>\n",
       "      <td>3K</td>\n",
       "      <td>3K</td>\n",
       "      <td>['Adventure', 'Indie', 'Platform']</td>\n",
       "      <td>A 2D metroidvania with an emphasis on close co...</td>\n",
       "      <td>[\"this games worldbuilding is incredible, with...</td>\n",
       "      <td>21K</td>\n",
       "      <td>2.4K</td>\n",
       "      <td>8.3K</td>\n",
       "      <td>2.3K</td>\n",
       "    </tr>\n",
       "  </tbody>\n",
       "</table>\n",
       "</div>"
      ],
      "text/plain": [
       "   Unnamed: 0                                    Title  Release Date  \\\n",
       "0           0                               Elden Ring  Feb 25, 2022   \n",
       "1           1                                    Hades  Dec 10, 2019   \n",
       "2           2  The Legend of Zelda: Breath of the Wild  Mar 03, 2017   \n",
       "3           3                                Undertale  Sep 15, 2015   \n",
       "4           4                            Hollow Knight  Feb 24, 2017   \n",
       "\n",
       "                                                Team  Rating Times Listed  \\\n",
       "0     ['Bandai Namco Entertainment', 'FromSoftware']     4.5         3.9K   \n",
       "1                               ['Supergiant Games']     4.3         2.9K   \n",
       "2  ['Nintendo', 'Nintendo EPD Production Group No...     4.4         4.3K   \n",
       "3                                 ['tobyfox', '8-4']     4.2         3.5K   \n",
       "4                                    ['Team Cherry']     4.4           3K   \n",
       "\n",
       "  Number of Reviews                                             Genres  \\\n",
       "0              3.9K                               ['Adventure', 'RPG']   \n",
       "1              2.9K           ['Adventure', 'Brawler', 'Indie', 'RPG']   \n",
       "2              4.3K                               ['Adventure', 'RPG']   \n",
       "3              3.5K  ['Adventure', 'Indie', 'RPG', 'Turn Based Stra...   \n",
       "4                3K                 ['Adventure', 'Indie', 'Platform']   \n",
       "\n",
       "                                             Summary  \\\n",
       "0  Elden Ring is a fantasy, action and open world...   \n",
       "1  A rogue-lite hack and slash dungeon crawler in...   \n",
       "2  The Legend of Zelda: Breath of the Wild is the...   \n",
       "3  A small child falls into the Underground, wher...   \n",
       "4  A 2D metroidvania with an emphasis on close co...   \n",
       "\n",
       "                                             Reviews Plays Playing Backlogs  \\\n",
       "0  [\"The first playthrough of elden ring is one o...   17K    3.8K     4.6K   \n",
       "1  ['convinced this is a roguelike for people who...   21K    3.2K     6.3K   \n",
       "2  ['This game is the game (that is not CS:GO) th...   30K    2.5K       5K   \n",
       "3  ['soundtrack is tied for #1 with nier automata...   28K     679     4.9K   \n",
       "4  [\"this games worldbuilding is incredible, with...   21K    2.4K     8.3K   \n",
       "\n",
       "  Wishlist  \n",
       "0     4.8K  \n",
       "1     3.6K  \n",
       "2     2.6K  \n",
       "3     1.8K  \n",
       "4     2.3K  "
      ]
     },
     "execution_count": 3,
     "metadata": {},
     "output_type": "execute_result"
    }
   ],
   "source": [
    "df.head()"
   ]
  },
  {
   "cell_type": "code",
   "execution_count": 4,
   "metadata": {},
   "outputs": [
    {
     "data": {
      "text/plain": [
       "(1512, 14)"
      ]
     },
     "execution_count": 4,
     "metadata": {},
     "output_type": "execute_result"
    }
   ],
   "source": [
    "df.shape"
   ]
  },
  {
   "attachments": {},
   "cell_type": "markdown",
   "metadata": {},
   "source": [
    "# Data cleaning and Preprocessing"
   ]
  },
  {
   "attachments": {},
   "cell_type": "markdown",
   "metadata": {},
   "source": [
    "dropping \"unnamed\" column"
   ]
  },
  {
   "cell_type": "code",
   "execution_count": 5,
   "metadata": {},
   "outputs": [],
   "source": [
    "df.drop('Unnamed: 0',axis=1, inplace=True)"
   ]
  },
  {
   "cell_type": "code",
   "execution_count": 6,
   "metadata": {},
   "outputs": [
    {
     "data": {
      "text/html": [
       "<div>\n",
       "<style scoped>\n",
       "    .dataframe tbody tr th:only-of-type {\n",
       "        vertical-align: middle;\n",
       "    }\n",
       "\n",
       "    .dataframe tbody tr th {\n",
       "        vertical-align: top;\n",
       "    }\n",
       "\n",
       "    .dataframe thead th {\n",
       "        text-align: right;\n",
       "    }\n",
       "</style>\n",
       "<table border=\"1\" class=\"dataframe\">\n",
       "  <thead>\n",
       "    <tr style=\"text-align: right;\">\n",
       "      <th></th>\n",
       "      <th>Title</th>\n",
       "      <th>Release Date</th>\n",
       "      <th>Team</th>\n",
       "      <th>Rating</th>\n",
       "      <th>Times Listed</th>\n",
       "      <th>Number of Reviews</th>\n",
       "      <th>Genres</th>\n",
       "      <th>Summary</th>\n",
       "      <th>Reviews</th>\n",
       "      <th>Plays</th>\n",
       "      <th>Playing</th>\n",
       "      <th>Backlogs</th>\n",
       "      <th>Wishlist</th>\n",
       "    </tr>\n",
       "  </thead>\n",
       "  <tbody>\n",
       "    <tr>\n",
       "      <th>0</th>\n",
       "      <td>Elden Ring</td>\n",
       "      <td>Feb 25, 2022</td>\n",
       "      <td>['Bandai Namco Entertainment', 'FromSoftware']</td>\n",
       "      <td>4.5</td>\n",
       "      <td>3.9K</td>\n",
       "      <td>3.9K</td>\n",
       "      <td>['Adventure', 'RPG']</td>\n",
       "      <td>Elden Ring is a fantasy, action and open world...</td>\n",
       "      <td>[\"The first playthrough of elden ring is one o...</td>\n",
       "      <td>17K</td>\n",
       "      <td>3.8K</td>\n",
       "      <td>4.6K</td>\n",
       "      <td>4.8K</td>\n",
       "    </tr>\n",
       "    <tr>\n",
       "      <th>1</th>\n",
       "      <td>Hades</td>\n",
       "      <td>Dec 10, 2019</td>\n",
       "      <td>['Supergiant Games']</td>\n",
       "      <td>4.3</td>\n",
       "      <td>2.9K</td>\n",
       "      <td>2.9K</td>\n",
       "      <td>['Adventure', 'Brawler', 'Indie', 'RPG']</td>\n",
       "      <td>A rogue-lite hack and slash dungeon crawler in...</td>\n",
       "      <td>['convinced this is a roguelike for people who...</td>\n",
       "      <td>21K</td>\n",
       "      <td>3.2K</td>\n",
       "      <td>6.3K</td>\n",
       "      <td>3.6K</td>\n",
       "    </tr>\n",
       "    <tr>\n",
       "      <th>2</th>\n",
       "      <td>The Legend of Zelda: Breath of the Wild</td>\n",
       "      <td>Mar 03, 2017</td>\n",
       "      <td>['Nintendo', 'Nintendo EPD Production Group No...</td>\n",
       "      <td>4.4</td>\n",
       "      <td>4.3K</td>\n",
       "      <td>4.3K</td>\n",
       "      <td>['Adventure', 'RPG']</td>\n",
       "      <td>The Legend of Zelda: Breath of the Wild is the...</td>\n",
       "      <td>['This game is the game (that is not CS:GO) th...</td>\n",
       "      <td>30K</td>\n",
       "      <td>2.5K</td>\n",
       "      <td>5K</td>\n",
       "      <td>2.6K</td>\n",
       "    </tr>\n",
       "    <tr>\n",
       "      <th>3</th>\n",
       "      <td>Undertale</td>\n",
       "      <td>Sep 15, 2015</td>\n",
       "      <td>['tobyfox', '8-4']</td>\n",
       "      <td>4.2</td>\n",
       "      <td>3.5K</td>\n",
       "      <td>3.5K</td>\n",
       "      <td>['Adventure', 'Indie', 'RPG', 'Turn Based Stra...</td>\n",
       "      <td>A small child falls into the Underground, wher...</td>\n",
       "      <td>['soundtrack is tied for #1 with nier automata...</td>\n",
       "      <td>28K</td>\n",
       "      <td>679</td>\n",
       "      <td>4.9K</td>\n",
       "      <td>1.8K</td>\n",
       "    </tr>\n",
       "    <tr>\n",
       "      <th>4</th>\n",
       "      <td>Hollow Knight</td>\n",
       "      <td>Feb 24, 2017</td>\n",
       "      <td>['Team Cherry']</td>\n",
       "      <td>4.4</td>\n",
       "      <td>3K</td>\n",
       "      <td>3K</td>\n",
       "      <td>['Adventure', 'Indie', 'Platform']</td>\n",
       "      <td>A 2D metroidvania with an emphasis on close co...</td>\n",
       "      <td>[\"this games worldbuilding is incredible, with...</td>\n",
       "      <td>21K</td>\n",
       "      <td>2.4K</td>\n",
       "      <td>8.3K</td>\n",
       "      <td>2.3K</td>\n",
       "    </tr>\n",
       "  </tbody>\n",
       "</table>\n",
       "</div>"
      ],
      "text/plain": [
       "                                     Title  Release Date  \\\n",
       "0                               Elden Ring  Feb 25, 2022   \n",
       "1                                    Hades  Dec 10, 2019   \n",
       "2  The Legend of Zelda: Breath of the Wild  Mar 03, 2017   \n",
       "3                                Undertale  Sep 15, 2015   \n",
       "4                            Hollow Knight  Feb 24, 2017   \n",
       "\n",
       "                                                Team  Rating Times Listed  \\\n",
       "0     ['Bandai Namco Entertainment', 'FromSoftware']     4.5         3.9K   \n",
       "1                               ['Supergiant Games']     4.3         2.9K   \n",
       "2  ['Nintendo', 'Nintendo EPD Production Group No...     4.4         4.3K   \n",
       "3                                 ['tobyfox', '8-4']     4.2         3.5K   \n",
       "4                                    ['Team Cherry']     4.4           3K   \n",
       "\n",
       "  Number of Reviews                                             Genres  \\\n",
       "0              3.9K                               ['Adventure', 'RPG']   \n",
       "1              2.9K           ['Adventure', 'Brawler', 'Indie', 'RPG']   \n",
       "2              4.3K                               ['Adventure', 'RPG']   \n",
       "3              3.5K  ['Adventure', 'Indie', 'RPG', 'Turn Based Stra...   \n",
       "4                3K                 ['Adventure', 'Indie', 'Platform']   \n",
       "\n",
       "                                             Summary  \\\n",
       "0  Elden Ring is a fantasy, action and open world...   \n",
       "1  A rogue-lite hack and slash dungeon crawler in...   \n",
       "2  The Legend of Zelda: Breath of the Wild is the...   \n",
       "3  A small child falls into the Underground, wher...   \n",
       "4  A 2D metroidvania with an emphasis on close co...   \n",
       "\n",
       "                                             Reviews Plays Playing Backlogs  \\\n",
       "0  [\"The first playthrough of elden ring is one o...   17K    3.8K     4.6K   \n",
       "1  ['convinced this is a roguelike for people who...   21K    3.2K     6.3K   \n",
       "2  ['This game is the game (that is not CS:GO) th...   30K    2.5K       5K   \n",
       "3  ['soundtrack is tied for #1 with nier automata...   28K     679     4.9K   \n",
       "4  [\"this games worldbuilding is incredible, with...   21K    2.4K     8.3K   \n",
       "\n",
       "  Wishlist  \n",
       "0     4.8K  \n",
       "1     3.6K  \n",
       "2     2.6K  \n",
       "3     1.8K  \n",
       "4     2.3K  "
      ]
     },
     "execution_count": 6,
     "metadata": {},
     "output_type": "execute_result"
    }
   ],
   "source": [
    "df.head()"
   ]
  },
  {
   "attachments": {},
   "cell_type": "markdown",
   "metadata": {},
   "source": [
    "Checking for dtypes"
   ]
  },
  {
   "cell_type": "code",
   "execution_count": 7,
   "metadata": {},
   "outputs": [
    {
     "data": {
      "text/plain": [
       "Title                 object\n",
       "Release Date          object\n",
       "Team                  object\n",
       "Rating               float64\n",
       "Times Listed          object\n",
       "Number of Reviews     object\n",
       "Genres                object\n",
       "Summary               object\n",
       "Reviews               object\n",
       "Plays                 object\n",
       "Playing               object\n",
       "Backlogs              object\n",
       "Wishlist              object\n",
       "dtype: object"
      ]
     },
     "execution_count": 7,
     "metadata": {},
     "output_type": "execute_result"
    }
   ],
   "source": [
    "df.dtypes"
   ]
  },
  {
   "attachments": {},
   "cell_type": "markdown",
   "metadata": {},
   "source": [
    "Checking for duplicate values\n",
    "(Some games could have the same title even though they're not the same. That's why we combine title+name as the same team wouldn't name different games the same name)"
   ]
  },
  {
   "cell_type": "code",
   "execution_count": 8,
   "metadata": {},
   "outputs": [
    {
     "data": {
      "text/html": [
       "<div>\n",
       "<style scoped>\n",
       "    .dataframe tbody tr th:only-of-type {\n",
       "        vertical-align: middle;\n",
       "    }\n",
       "\n",
       "    .dataframe tbody tr th {\n",
       "        vertical-align: top;\n",
       "    }\n",
       "\n",
       "    .dataframe thead th {\n",
       "        text-align: right;\n",
       "    }\n",
       "</style>\n",
       "<table border=\"1\" class=\"dataframe\">\n",
       "  <thead>\n",
       "    <tr style=\"text-align: right;\">\n",
       "      <th></th>\n",
       "      <th>Title</th>\n",
       "      <th>Release Date</th>\n",
       "      <th>Team</th>\n",
       "      <th>Rating</th>\n",
       "      <th>Times Listed</th>\n",
       "      <th>Number of Reviews</th>\n",
       "      <th>Genres</th>\n",
       "      <th>Summary</th>\n",
       "      <th>Reviews</th>\n",
       "      <th>Plays</th>\n",
       "      <th>Playing</th>\n",
       "      <th>Backlogs</th>\n",
       "      <th>Wishlist</th>\n",
       "    </tr>\n",
       "  </thead>\n",
       "  <tbody>\n",
       "    <tr>\n",
       "      <th>326</th>\n",
       "      <td>Elden Ring</td>\n",
       "      <td>Feb 25, 2022</td>\n",
       "      <td>['Bandai Namco Entertainment', 'FromSoftware']</td>\n",
       "      <td>4.5</td>\n",
       "      <td>3.9K</td>\n",
       "      <td>3.9K</td>\n",
       "      <td>['Adventure', 'RPG']</td>\n",
       "      <td>Elden Ring is a fantasy, action and open world...</td>\n",
       "      <td>[\"The first playthrough of elden ring is one o...</td>\n",
       "      <td>17K</td>\n",
       "      <td>3.8K</td>\n",
       "      <td>4.6K</td>\n",
       "      <td>4.8K</td>\n",
       "    </tr>\n",
       "    <tr>\n",
       "      <th>327</th>\n",
       "      <td>Hades</td>\n",
       "      <td>Dec 10, 2019</td>\n",
       "      <td>['Supergiant Games']</td>\n",
       "      <td>4.3</td>\n",
       "      <td>2.9K</td>\n",
       "      <td>2.9K</td>\n",
       "      <td>['Adventure', 'Brawler', 'Indie', 'RPG']</td>\n",
       "      <td>A rogue-lite hack and slash dungeon crawler in...</td>\n",
       "      <td>['convinced this is a roguelike for people who...</td>\n",
       "      <td>21K</td>\n",
       "      <td>3.2K</td>\n",
       "      <td>6.3K</td>\n",
       "      <td>3.6K</td>\n",
       "    </tr>\n",
       "    <tr>\n",
       "      <th>328</th>\n",
       "      <td>The Legend of Zelda: Breath of the Wild</td>\n",
       "      <td>Mar 03, 2017</td>\n",
       "      <td>['Nintendo', 'Nintendo EPD Production Group No...</td>\n",
       "      <td>4.4</td>\n",
       "      <td>4.3K</td>\n",
       "      <td>4.3K</td>\n",
       "      <td>['Adventure', 'RPG']</td>\n",
       "      <td>The Legend of Zelda: Breath of the Wild is the...</td>\n",
       "      <td>['This game is the game (that is not CS:GO) th...</td>\n",
       "      <td>30K</td>\n",
       "      <td>2.5K</td>\n",
       "      <td>5K</td>\n",
       "      <td>2.6K</td>\n",
       "    </tr>\n",
       "    <tr>\n",
       "      <th>329</th>\n",
       "      <td>Undertale</td>\n",
       "      <td>Sep 15, 2015</td>\n",
       "      <td>['tobyfox', '8-4']</td>\n",
       "      <td>4.2</td>\n",
       "      <td>3.5K</td>\n",
       "      <td>3.5K</td>\n",
       "      <td>['Adventure', 'Indie', 'RPG', 'Turn Based Stra...</td>\n",
       "      <td>A small child falls into the Underground, wher...</td>\n",
       "      <td>['soundtrack is tied for #1 with nier automata...</td>\n",
       "      <td>28K</td>\n",
       "      <td>679</td>\n",
       "      <td>4.9K</td>\n",
       "      <td>1.8K</td>\n",
       "    </tr>\n",
       "    <tr>\n",
       "      <th>330</th>\n",
       "      <td>Hollow Knight</td>\n",
       "      <td>Feb 24, 2017</td>\n",
       "      <td>['Team Cherry']</td>\n",
       "      <td>4.4</td>\n",
       "      <td>3K</td>\n",
       "      <td>3K</td>\n",
       "      <td>['Adventure', 'Indie', 'Platform']</td>\n",
       "      <td>A 2D metroidvania with an emphasis on close co...</td>\n",
       "      <td>[\"this games worldbuilding is incredible, with...</td>\n",
       "      <td>21K</td>\n",
       "      <td>2.4K</td>\n",
       "      <td>8.3K</td>\n",
       "      <td>2.3K</td>\n",
       "    </tr>\n",
       "    <tr>\n",
       "      <th>...</th>\n",
       "      <td>...</td>\n",
       "      <td>...</td>\n",
       "      <td>...</td>\n",
       "      <td>...</td>\n",
       "      <td>...</td>\n",
       "      <td>...</td>\n",
       "      <td>...</td>\n",
       "      <td>...</td>\n",
       "      <td>...</td>\n",
       "      <td>...</td>\n",
       "      <td>...</td>\n",
       "      <td>...</td>\n",
       "      <td>...</td>\n",
       "    </tr>\n",
       "    <tr>\n",
       "      <th>1269</th>\n",
       "      <td>Final Fantasy XIII-2</td>\n",
       "      <td>Dec 15, 2011</td>\n",
       "      <td>['Square Enix']</td>\n",
       "      <td>3.3</td>\n",
       "      <td>482</td>\n",
       "      <td>482</td>\n",
       "      <td>['Adventure', 'RPG']</td>\n",
       "      <td>FINAL FANTASY XIII-2 is created with the aim o...</td>\n",
       "      <td>[\"Oh boy. Playing the XIII series is looking m...</td>\n",
       "      <td>2.3K</td>\n",
       "      <td>58</td>\n",
       "      <td>1.4K</td>\n",
       "      <td>449</td>\n",
       "    </tr>\n",
       "    <tr>\n",
       "      <th>1270</th>\n",
       "      <td>Agar.io</td>\n",
       "      <td>Apr 28, 2015</td>\n",
       "      <td>['Miniclip.com', 'Matheus Valadares']</td>\n",
       "      <td>2.2</td>\n",
       "      <td>81</td>\n",
       "      <td>81</td>\n",
       "      <td>['Indie', 'Strategy']</td>\n",
       "      <td>Agar.io is a Massively-multiplayer top-down st...</td>\n",
       "      <td>['\"A Ganância que te move... É a mesma que te ...</td>\n",
       "      <td>4.4K</td>\n",
       "      <td>8</td>\n",
       "      <td>40</td>\n",
       "      <td>12</td>\n",
       "    </tr>\n",
       "    <tr>\n",
       "      <th>1271</th>\n",
       "      <td>Fatal Frame II: Crimson Butterfly</td>\n",
       "      <td>Nov 27, 2003</td>\n",
       "      <td>['Tecmo Co., Ltd.', 'Ubisoft Entertainment']</td>\n",
       "      <td>4.2</td>\n",
       "      <td>398</td>\n",
       "      <td>398</td>\n",
       "      <td>['Adventure']</td>\n",
       "      <td>Crimson Butterfly is the second installment in...</td>\n",
       "      <td>['Pretty cool albeit a bit similar to the firs...</td>\n",
       "      <td>1K</td>\n",
       "      <td>38</td>\n",
       "      <td>690</td>\n",
       "      <td>513</td>\n",
       "    </tr>\n",
       "    <tr>\n",
       "      <th>1282</th>\n",
       "      <td>Super Mario Sunshine</td>\n",
       "      <td>Sep 18, 2020</td>\n",
       "      <td>['Nintendo EAD', 'Nintendo']</td>\n",
       "      <td>3.7</td>\n",
       "      <td>19</td>\n",
       "      <td>19</td>\n",
       "      <td>['Adventure', 'Platform']</td>\n",
       "      <td>A port of Super Mario Sunshine included in Sup...</td>\n",
       "      <td>['What an amazing remaster of an already amazi...</td>\n",
       "      <td>340</td>\n",
       "      <td>6</td>\n",
       "      <td>83</td>\n",
       "      <td>14</td>\n",
       "    </tr>\n",
       "    <tr>\n",
       "      <th>1496</th>\n",
       "      <td>FIFA 13</td>\n",
       "      <td>Sep 25, 2012</td>\n",
       "      <td>['Electronic Arts', 'EA Canada']</td>\n",
       "      <td>3.2</td>\n",
       "      <td>62</td>\n",
       "      <td>62</td>\n",
       "      <td>['Simulator', 'Sport']</td>\n",
       "      <td>FIFA 13 captures the drama and unpredictabilit...</td>\n",
       "      <td>['Best FIFA.', \"First FIFA part that I played ...</td>\n",
       "      <td>1.6K</td>\n",
       "      <td>2</td>\n",
       "      <td>34</td>\n",
       "      <td>12</td>\n",
       "    </tr>\n",
       "  </tbody>\n",
       "</table>\n",
       "<p>398 rows × 13 columns</p>\n",
       "</div>"
      ],
      "text/plain": [
       "                                        Title  Release Date  \\\n",
       "326                                Elden Ring  Feb 25, 2022   \n",
       "327                                     Hades  Dec 10, 2019   \n",
       "328   The Legend of Zelda: Breath of the Wild  Mar 03, 2017   \n",
       "329                                 Undertale  Sep 15, 2015   \n",
       "330                             Hollow Knight  Feb 24, 2017   \n",
       "...                                       ...           ...   \n",
       "1269                     Final Fantasy XIII-2  Dec 15, 2011   \n",
       "1270                                  Agar.io  Apr 28, 2015   \n",
       "1271        Fatal Frame II: Crimson Butterfly  Nov 27, 2003   \n",
       "1282                     Super Mario Sunshine  Sep 18, 2020   \n",
       "1496                                  FIFA 13  Sep 25, 2012   \n",
       "\n",
       "                                                   Team  Rating Times Listed  \\\n",
       "326      ['Bandai Namco Entertainment', 'FromSoftware']     4.5         3.9K   \n",
       "327                                ['Supergiant Games']     4.3         2.9K   \n",
       "328   ['Nintendo', 'Nintendo EPD Production Group No...     4.4         4.3K   \n",
       "329                                  ['tobyfox', '8-4']     4.2         3.5K   \n",
       "330                                     ['Team Cherry']     4.4           3K   \n",
       "...                                                 ...     ...          ...   \n",
       "1269                                    ['Square Enix']     3.3          482   \n",
       "1270              ['Miniclip.com', 'Matheus Valadares']     2.2           81   \n",
       "1271       ['Tecmo Co., Ltd.', 'Ubisoft Entertainment']     4.2          398   \n",
       "1282                       ['Nintendo EAD', 'Nintendo']     3.7           19   \n",
       "1496                   ['Electronic Arts', 'EA Canada']     3.2           62   \n",
       "\n",
       "     Number of Reviews                                             Genres  \\\n",
       "326               3.9K                               ['Adventure', 'RPG']   \n",
       "327               2.9K           ['Adventure', 'Brawler', 'Indie', 'RPG']   \n",
       "328               4.3K                               ['Adventure', 'RPG']   \n",
       "329               3.5K  ['Adventure', 'Indie', 'RPG', 'Turn Based Stra...   \n",
       "330                 3K                 ['Adventure', 'Indie', 'Platform']   \n",
       "...                ...                                                ...   \n",
       "1269               482                               ['Adventure', 'RPG']   \n",
       "1270                81                              ['Indie', 'Strategy']   \n",
       "1271               398                                      ['Adventure']   \n",
       "1282                19                          ['Adventure', 'Platform']   \n",
       "1496                62                             ['Simulator', 'Sport']   \n",
       "\n",
       "                                                Summary  \\\n",
       "326   Elden Ring is a fantasy, action and open world...   \n",
       "327   A rogue-lite hack and slash dungeon crawler in...   \n",
       "328   The Legend of Zelda: Breath of the Wild is the...   \n",
       "329   A small child falls into the Underground, wher...   \n",
       "330   A 2D metroidvania with an emphasis on close co...   \n",
       "...                                                 ...   \n",
       "1269  FINAL FANTASY XIII-2 is created with the aim o...   \n",
       "1270  Agar.io is a Massively-multiplayer top-down st...   \n",
       "1271  Crimson Butterfly is the second installment in...   \n",
       "1282  A port of Super Mario Sunshine included in Sup...   \n",
       "1496  FIFA 13 captures the drama and unpredictabilit...   \n",
       "\n",
       "                                                Reviews Plays Playing  \\\n",
       "326   [\"The first playthrough of elden ring is one o...   17K    3.8K   \n",
       "327   ['convinced this is a roguelike for people who...   21K    3.2K   \n",
       "328   ['This game is the game (that is not CS:GO) th...   30K    2.5K   \n",
       "329   ['soundtrack is tied for #1 with nier automata...   28K     679   \n",
       "330   [\"this games worldbuilding is incredible, with...   21K    2.4K   \n",
       "...                                                 ...   ...     ...   \n",
       "1269  [\"Oh boy. Playing the XIII series is looking m...  2.3K      58   \n",
       "1270  ['\"A Ganância que te move... É a mesma que te ...  4.4K       8   \n",
       "1271  ['Pretty cool albeit a bit similar to the firs...    1K      38   \n",
       "1282  ['What an amazing remaster of an already amazi...   340       6   \n",
       "1496  ['Best FIFA.', \"First FIFA part that I played ...  1.6K       2   \n",
       "\n",
       "     Backlogs Wishlist  \n",
       "326      4.6K     4.8K  \n",
       "327      6.3K     3.6K  \n",
       "328        5K     2.6K  \n",
       "329      4.9K     1.8K  \n",
       "330      8.3K     2.3K  \n",
       "...       ...      ...  \n",
       "1269     1.4K      449  \n",
       "1270       40       12  \n",
       "1271      690      513  \n",
       "1282       83       14  \n",
       "1496       34       12  \n",
       "\n",
       "[398 rows x 13 columns]"
      ]
     },
     "execution_count": 8,
     "metadata": {},
     "output_type": "execute_result"
    }
   ],
   "source": [
    "df[df.duplicated(subset=['Title','Team'])]"
   ]
  },
  {
   "attachments": {},
   "cell_type": "markdown",
   "metadata": {},
   "source": [
    "Dropping the duplicate rows"
   ]
  },
  {
   "cell_type": "code",
   "execution_count": 9,
   "metadata": {},
   "outputs": [],
   "source": [
    "df.drop_duplicates(subset=['Title','Team'],inplace=True,ignore_index=True)"
   ]
  },
  {
   "cell_type": "code",
   "execution_count": 10,
   "metadata": {},
   "outputs": [
    {
     "data": {
      "text/plain": [
       "(1114, 13)"
      ]
     },
     "execution_count": 10,
     "metadata": {},
     "output_type": "execute_result"
    }
   ],
   "source": [
    "df.shape"
   ]
  },
  {
   "attachments": {},
   "cell_type": "markdown",
   "metadata": {},
   "source": [
    "Checking for null values"
   ]
  },
  {
   "cell_type": "code",
   "execution_count": 11,
   "metadata": {},
   "outputs": [
    {
     "data": {
      "text/plain": [
       "Title                 0\n",
       "Release Date          0\n",
       "Team                  1\n",
       "Rating               13\n",
       "Times Listed          0\n",
       "Number of Reviews     0\n",
       "Genres                0\n",
       "Summary               1\n",
       "Reviews               0\n",
       "Plays                 0\n",
       "Playing               0\n",
       "Backlogs              0\n",
       "Wishlist              0\n",
       "dtype: int64"
      ]
     },
     "execution_count": 11,
     "metadata": {},
     "output_type": "execute_result"
    }
   ],
   "source": [
    "df.isna().sum()"
   ]
  },
  {
   "attachments": {},
   "cell_type": "markdown",
   "metadata": {},
   "source": [
    "for our EDA, we will be most interested in the \"Rating\" column. That's why we will only deal with the rows with missing \"Rating\" values in this phase."
   ]
  },
  {
   "attachments": {},
   "cell_type": "markdown",
   "metadata": {},
   "source": [
    "Let's start by viewing the concerned rows."
   ]
  },
  {
   "cell_type": "code",
   "execution_count": 12,
   "metadata": {},
   "outputs": [
    {
     "data": {
      "text/html": [
       "<div>\n",
       "<style scoped>\n",
       "    .dataframe tbody tr th:only-of-type {\n",
       "        vertical-align: middle;\n",
       "    }\n",
       "\n",
       "    .dataframe tbody tr th {\n",
       "        vertical-align: top;\n",
       "    }\n",
       "\n",
       "    .dataframe thead th {\n",
       "        text-align: right;\n",
       "    }\n",
       "</style>\n",
       "<table border=\"1\" class=\"dataframe\">\n",
       "  <thead>\n",
       "    <tr style=\"text-align: right;\">\n",
       "      <th></th>\n",
       "      <th>Title</th>\n",
       "      <th>Release Date</th>\n",
       "      <th>Team</th>\n",
       "      <th>Rating</th>\n",
       "      <th>Times Listed</th>\n",
       "      <th>Number of Reviews</th>\n",
       "      <th>Genres</th>\n",
       "      <th>Summary</th>\n",
       "      <th>Reviews</th>\n",
       "      <th>Plays</th>\n",
       "      <th>Playing</th>\n",
       "      <th>Backlogs</th>\n",
       "      <th>Wishlist</th>\n",
       "    </tr>\n",
       "  </thead>\n",
       "  <tbody>\n",
       "    <tr>\n",
       "      <th>371</th>\n",
       "      <td>Final Fantasy XVI</td>\n",
       "      <td>Jun 22, 2023</td>\n",
       "      <td>['Square Enix', 'Square Enix Creative Business...</td>\n",
       "      <td>NaN</td>\n",
       "      <td>422</td>\n",
       "      <td>422</td>\n",
       "      <td>['RPG']</td>\n",
       "      <td>Final Fantasy XVI is an upcoming action role-p...</td>\n",
       "      <td>[]</td>\n",
       "      <td>37</td>\n",
       "      <td>10</td>\n",
       "      <td>732</td>\n",
       "      <td>2.4K</td>\n",
       "    </tr>\n",
       "    <tr>\n",
       "      <th>426</th>\n",
       "      <td>Death Stranding 2</td>\n",
       "      <td>releases on TBD</td>\n",
       "      <td>['Kojima Productions']</td>\n",
       "      <td>NaN</td>\n",
       "      <td>105</td>\n",
       "      <td>105</td>\n",
       "      <td>['Adventure', 'Shooter']</td>\n",
       "      <td>NaN</td>\n",
       "      <td>[]</td>\n",
       "      <td>3</td>\n",
       "      <td>0</td>\n",
       "      <td>209</td>\n",
       "      <td>644</td>\n",
       "    </tr>\n",
       "    <tr>\n",
       "      <th>490</th>\n",
       "      <td>Final Fantasy VII Rebirth</td>\n",
       "      <td>Dec 31, 2023</td>\n",
       "      <td>['Square Enix']</td>\n",
       "      <td>NaN</td>\n",
       "      <td>192</td>\n",
       "      <td>192</td>\n",
       "      <td>[]</td>\n",
       "      <td>This next standalone chapter in the FINAL FANT...</td>\n",
       "      <td>[]</td>\n",
       "      <td>20</td>\n",
       "      <td>3</td>\n",
       "      <td>354</td>\n",
       "      <td>1.1K</td>\n",
       "    </tr>\n",
       "    <tr>\n",
       "      <th>496</th>\n",
       "      <td>Lies of P</td>\n",
       "      <td>Aug 01, 2023</td>\n",
       "      <td>['NEOWIZ', 'Round8 Studio']</td>\n",
       "      <td>NaN</td>\n",
       "      <td>175</td>\n",
       "      <td>175</td>\n",
       "      <td>['RPG']</td>\n",
       "      <td>Inspired by the familiar story of Pinocchio, L...</td>\n",
       "      <td>[]</td>\n",
       "      <td>5</td>\n",
       "      <td>0</td>\n",
       "      <td>260</td>\n",
       "      <td>939</td>\n",
       "    </tr>\n",
       "    <tr>\n",
       "      <th>503</th>\n",
       "      <td>Judas</td>\n",
       "      <td>Mar 31, 2025</td>\n",
       "      <td>['Ghost Story Games']</td>\n",
       "      <td>NaN</td>\n",
       "      <td>90</td>\n",
       "      <td>90</td>\n",
       "      <td>['Adventure', 'Shooter']</td>\n",
       "      <td>A disintegrating starship. A desperate escape ...</td>\n",
       "      <td>[]</td>\n",
       "      <td>1</td>\n",
       "      <td>0</td>\n",
       "      <td>92</td>\n",
       "      <td>437</td>\n",
       "    </tr>\n",
       "    <tr>\n",
       "      <th>523</th>\n",
       "      <td>Like a Dragon Gaiden: The Man Who Erased His Name</td>\n",
       "      <td>Dec 31, 2023</td>\n",
       "      <td>['Ryū Ga Gotoku Studios', 'Sega']</td>\n",
       "      <td>NaN</td>\n",
       "      <td>118</td>\n",
       "      <td>118</td>\n",
       "      <td>['Adventure', 'Brawler', 'RPG']</td>\n",
       "      <td>This game covers Kiryu's story between Yakuza ...</td>\n",
       "      <td>[]</td>\n",
       "      <td>2</td>\n",
       "      <td>1</td>\n",
       "      <td>145</td>\n",
       "      <td>588</td>\n",
       "    </tr>\n",
       "    <tr>\n",
       "      <th>614</th>\n",
       "      <td>The Legend of Zelda: Tears of the Kingdom</td>\n",
       "      <td>May 12, 2023</td>\n",
       "      <td>['Nintendo', 'Nintendo EPD Production Group No...</td>\n",
       "      <td>NaN</td>\n",
       "      <td>581</td>\n",
       "      <td>581</td>\n",
       "      <td>['Adventure', 'RPG']</td>\n",
       "      <td>The Legend of Zelda: Tears of the Kingdom is t...</td>\n",
       "      <td>[]</td>\n",
       "      <td>72</td>\n",
       "      <td>6</td>\n",
       "      <td>1.6K</td>\n",
       "      <td>5.4K</td>\n",
       "    </tr>\n",
       "    <tr>\n",
       "      <th>754</th>\n",
       "      <td>Star Wars Jedi: Survivor</td>\n",
       "      <td>Apr 28, 2023</td>\n",
       "      <td>['Respawn Entertainment', 'Electronic Arts']</td>\n",
       "      <td>NaN</td>\n",
       "      <td>250</td>\n",
       "      <td>250</td>\n",
       "      <td>['Adventure']</td>\n",
       "      <td>The story of Cal Kestis continues in Star Wars...</td>\n",
       "      <td>[]</td>\n",
       "      <td>13</td>\n",
       "      <td>2</td>\n",
       "      <td>367</td>\n",
       "      <td>1.4K</td>\n",
       "    </tr>\n",
       "    <tr>\n",
       "      <th>784</th>\n",
       "      <td>We Love Katamari Reroll + Royal Reverie</td>\n",
       "      <td>Jun 02, 2023</td>\n",
       "      <td>['Bandai Namco Entertainment', 'MONKEYCRAFT Co...</td>\n",
       "      <td>NaN</td>\n",
       "      <td>51</td>\n",
       "      <td>51</td>\n",
       "      <td>['Adventure', 'Puzzle']</td>\n",
       "      <td>We Love Katamari Reroll + Royal Reverie is a r...</td>\n",
       "      <td>[]</td>\n",
       "      <td>3</td>\n",
       "      <td>0</td>\n",
       "      <td>74</td>\n",
       "      <td>291</td>\n",
       "    </tr>\n",
       "    <tr>\n",
       "      <th>826</th>\n",
       "      <td>Earthblade</td>\n",
       "      <td>Dec 31, 2024</td>\n",
       "      <td>['Extremely OK Games']</td>\n",
       "      <td>NaN</td>\n",
       "      <td>83</td>\n",
       "      <td>83</td>\n",
       "      <td>['Adventure', 'Indie', 'RPG']</td>\n",
       "      <td>You are Névoa, an enigmatic child of Fate retu...</td>\n",
       "      <td>[]</td>\n",
       "      <td>0</td>\n",
       "      <td>1</td>\n",
       "      <td>103</td>\n",
       "      <td>529</td>\n",
       "    </tr>\n",
       "    <tr>\n",
       "      <th>908</th>\n",
       "      <td>Diablo IV</td>\n",
       "      <td>Jun 06, 2023</td>\n",
       "      <td>['Blizzard Entertainment']</td>\n",
       "      <td>NaN</td>\n",
       "      <td>148</td>\n",
       "      <td>148</td>\n",
       "      <td>['Brawler', 'RPG']</td>\n",
       "      <td>Endless demons to slaughter. Deep customizatio...</td>\n",
       "      <td>[]</td>\n",
       "      <td>19</td>\n",
       "      <td>10</td>\n",
       "      <td>179</td>\n",
       "      <td>677</td>\n",
       "    </tr>\n",
       "    <tr>\n",
       "      <th>944</th>\n",
       "      <td>Pac-Man in a Tin</td>\n",
       "      <td>Mar 22, 2023</td>\n",
       "      <td>['Fizz Creations']</td>\n",
       "      <td>NaN</td>\n",
       "      <td>0</td>\n",
       "      <td>0</td>\n",
       "      <td>['Arcade']</td>\n",
       "      <td>Pac-Man in a Tin is a pocket-sized tin contain...</td>\n",
       "      <td>[]</td>\n",
       "      <td>1</td>\n",
       "      <td>0</td>\n",
       "      <td>1</td>\n",
       "      <td>2</td>\n",
       "    </tr>\n",
       "    <tr>\n",
       "      <th>952</th>\n",
       "      <td>Pokémon Añil</td>\n",
       "      <td>Mar 23, 2023</td>\n",
       "      <td>['Eric Lost']</td>\n",
       "      <td>NaN</td>\n",
       "      <td>2</td>\n",
       "      <td>2</td>\n",
       "      <td>['RPG']</td>\n",
       "      <td>Pokémon Añil is the fourth video game created ...</td>\n",
       "      <td>['pokemon HWHAT', 'Finally, after all these ye...</td>\n",
       "      <td>1</td>\n",
       "      <td>0</td>\n",
       "      <td>1</td>\n",
       "      <td>7</td>\n",
       "    </tr>\n",
       "  </tbody>\n",
       "</table>\n",
       "</div>"
      ],
      "text/plain": [
       "                                                 Title     Release Date  \\\n",
       "371                                  Final Fantasy XVI     Jun 22, 2023   \n",
       "426                                  Death Stranding 2  releases on TBD   \n",
       "490                          Final Fantasy VII Rebirth     Dec 31, 2023   \n",
       "496                                          Lies of P     Aug 01, 2023   \n",
       "503                                              Judas     Mar 31, 2025   \n",
       "523  Like a Dragon Gaiden: The Man Who Erased His Name     Dec 31, 2023   \n",
       "614          The Legend of Zelda: Tears of the Kingdom     May 12, 2023   \n",
       "754                           Star Wars Jedi: Survivor     Apr 28, 2023   \n",
       "784            We Love Katamari Reroll + Royal Reverie     Jun 02, 2023   \n",
       "826                                         Earthblade     Dec 31, 2024   \n",
       "908                                          Diablo IV     Jun 06, 2023   \n",
       "944                                   Pac-Man in a Tin     Mar 22, 2023   \n",
       "952                                       Pokémon Añil     Mar 23, 2023   \n",
       "\n",
       "                                                  Team  Rating Times Listed  \\\n",
       "371  ['Square Enix', 'Square Enix Creative Business...     NaN          422   \n",
       "426                             ['Kojima Productions']     NaN          105   \n",
       "490                                    ['Square Enix']     NaN          192   \n",
       "496                        ['NEOWIZ', 'Round8 Studio']     NaN          175   \n",
       "503                              ['Ghost Story Games']     NaN           90   \n",
       "523                  ['Ryū Ga Gotoku Studios', 'Sega']     NaN          118   \n",
       "614  ['Nintendo', 'Nintendo EPD Production Group No...     NaN          581   \n",
       "754       ['Respawn Entertainment', 'Electronic Arts']     NaN          250   \n",
       "784  ['Bandai Namco Entertainment', 'MONKEYCRAFT Co...     NaN           51   \n",
       "826                             ['Extremely OK Games']     NaN           83   \n",
       "908                         ['Blizzard Entertainment']     NaN          148   \n",
       "944                                 ['Fizz Creations']     NaN            0   \n",
       "952                                      ['Eric Lost']     NaN            2   \n",
       "\n",
       "    Number of Reviews                           Genres  \\\n",
       "371               422                          ['RPG']   \n",
       "426               105         ['Adventure', 'Shooter']   \n",
       "490               192                               []   \n",
       "496               175                          ['RPG']   \n",
       "503                90         ['Adventure', 'Shooter']   \n",
       "523               118  ['Adventure', 'Brawler', 'RPG']   \n",
       "614               581             ['Adventure', 'RPG']   \n",
       "754               250                    ['Adventure']   \n",
       "784                51          ['Adventure', 'Puzzle']   \n",
       "826                83    ['Adventure', 'Indie', 'RPG']   \n",
       "908               148               ['Brawler', 'RPG']   \n",
       "944                 0                       ['Arcade']   \n",
       "952                 2                          ['RPG']   \n",
       "\n",
       "                                               Summary  \\\n",
       "371  Final Fantasy XVI is an upcoming action role-p...   \n",
       "426                                                NaN   \n",
       "490  This next standalone chapter in the FINAL FANT...   \n",
       "496  Inspired by the familiar story of Pinocchio, L...   \n",
       "503  A disintegrating starship. A desperate escape ...   \n",
       "523  This game covers Kiryu's story between Yakuza ...   \n",
       "614  The Legend of Zelda: Tears of the Kingdom is t...   \n",
       "754  The story of Cal Kestis continues in Star Wars...   \n",
       "784  We Love Katamari Reroll + Royal Reverie is a r...   \n",
       "826  You are Névoa, an enigmatic child of Fate retu...   \n",
       "908  Endless demons to slaughter. Deep customizatio...   \n",
       "944  Pac-Man in a Tin is a pocket-sized tin contain...   \n",
       "952  Pokémon Añil is the fourth video game created ...   \n",
       "\n",
       "                                               Reviews Plays Playing Backlogs  \\\n",
       "371                                                 []    37      10      732   \n",
       "426                                                 []     3       0      209   \n",
       "490                                                 []    20       3      354   \n",
       "496                                                 []     5       0      260   \n",
       "503                                                 []     1       0       92   \n",
       "523                                                 []     2       1      145   \n",
       "614                                                 []    72       6     1.6K   \n",
       "754                                                 []    13       2      367   \n",
       "784                                                 []     3       0       74   \n",
       "826                                                 []     0       1      103   \n",
       "908                                                 []    19      10      179   \n",
       "944                                                 []     1       0        1   \n",
       "952  ['pokemon HWHAT', 'Finally, after all these ye...     1       0        1   \n",
       "\n",
       "    Wishlist  \n",
       "371     2.4K  \n",
       "426      644  \n",
       "490     1.1K  \n",
       "496      939  \n",
       "503      437  \n",
       "523      588  \n",
       "614     5.4K  \n",
       "754     1.4K  \n",
       "784      291  \n",
       "826      529  \n",
       "908      677  \n",
       "944        2  \n",
       "952        7  "
      ]
     },
     "execution_count": 12,
     "metadata": {},
     "output_type": "execute_result"
    }
   ],
   "source": [
    "df.query('Rating.isnull()')"
   ]
  },
  {
   "attachments": {},
   "cell_type": "markdown",
   "metadata": {},
   "source": [
    "We will remove these rows"
   ]
  },
  {
   "cell_type": "code",
   "execution_count": 13,
   "metadata": {},
   "outputs": [],
   "source": [
    "df.dropna(subset=['Rating'], inplace=True)"
   ]
  },
  {
   "cell_type": "code",
   "execution_count": 14,
   "metadata": {},
   "outputs": [
    {
     "data": {
      "text/plain": [
       "(1101, 13)"
      ]
     },
     "execution_count": 14,
     "metadata": {},
     "output_type": "execute_result"
    }
   ],
   "source": [
    "df.shape"
   ]
  },
  {
   "attachments": {},
   "cell_type": "markdown",
   "metadata": {},
   "source": [
    "with the date column, we first look for rows that don't follow the same format as most of the rows"
   ]
  },
  {
   "cell_type": "code",
   "execution_count": 15,
   "metadata": {},
   "outputs": [
    {
     "data": {
      "text/html": [
       "<div>\n",
       "<style scoped>\n",
       "    .dataframe tbody tr th:only-of-type {\n",
       "        vertical-align: middle;\n",
       "    }\n",
       "\n",
       "    .dataframe tbody tr th {\n",
       "        vertical-align: top;\n",
       "    }\n",
       "\n",
       "    .dataframe thead th {\n",
       "        text-align: right;\n",
       "    }\n",
       "</style>\n",
       "<table border=\"1\" class=\"dataframe\">\n",
       "  <thead>\n",
       "    <tr style=\"text-align: right;\">\n",
       "      <th></th>\n",
       "      <th>Title</th>\n",
       "      <th>Release Date</th>\n",
       "      <th>Team</th>\n",
       "      <th>Rating</th>\n",
       "      <th>Times Listed</th>\n",
       "      <th>Number of Reviews</th>\n",
       "      <th>Genres</th>\n",
       "      <th>Summary</th>\n",
       "      <th>Reviews</th>\n",
       "      <th>Plays</th>\n",
       "      <th>Playing</th>\n",
       "      <th>Backlogs</th>\n",
       "      <th>Wishlist</th>\n",
       "    </tr>\n",
       "  </thead>\n",
       "  <tbody>\n",
       "    <tr>\n",
       "      <th>421</th>\n",
       "      <td>Deltarune</td>\n",
       "      <td>releases on TBD</td>\n",
       "      <td>['tobyfox']</td>\n",
       "      <td>4.3</td>\n",
       "      <td>313</td>\n",
       "      <td>313</td>\n",
       "      <td>['Adventure', 'Indie', 'Music', 'Puzzle', 'RPG']</td>\n",
       "      <td>UNDERTALE's parallel story, DELTARUNE. Meet ne...</td>\n",
       "      <td>['Spamton is so hot, I want to kiss him in the...</td>\n",
       "      <td>1.3K</td>\n",
       "      <td>83</td>\n",
       "      <td>468</td>\n",
       "      <td>617</td>\n",
       "    </tr>\n",
       "    <tr>\n",
       "      <th>875</th>\n",
       "      <td>Elden Ring: Shadow of the Erdtree</td>\n",
       "      <td>releases on TBD</td>\n",
       "      <td>['FromSoftware', 'Bandai Namco Entertainment']</td>\n",
       "      <td>4.8</td>\n",
       "      <td>18</td>\n",
       "      <td>18</td>\n",
       "      <td>['Adventure', 'RPG']</td>\n",
       "      <td>An expansion to Elden Ring setting players on ...</td>\n",
       "      <td>['I really loved that they integrated Family G...</td>\n",
       "      <td>1</td>\n",
       "      <td>0</td>\n",
       "      <td>39</td>\n",
       "      <td>146</td>\n",
       "    </tr>\n",
       "  </tbody>\n",
       "</table>\n",
       "</div>"
      ],
      "text/plain": [
       "                                 Title     Release Date  \\\n",
       "421                          Deltarune  releases on TBD   \n",
       "875  Elden Ring: Shadow of the Erdtree  releases on TBD   \n",
       "\n",
       "                                               Team  Rating Times Listed  \\\n",
       "421                                     ['tobyfox']     4.3          313   \n",
       "875  ['FromSoftware', 'Bandai Namco Entertainment']     4.8           18   \n",
       "\n",
       "    Number of Reviews                                            Genres  \\\n",
       "421               313  ['Adventure', 'Indie', 'Music', 'Puzzle', 'RPG']   \n",
       "875                18                              ['Adventure', 'RPG']   \n",
       "\n",
       "                                               Summary  \\\n",
       "421  UNDERTALE's parallel story, DELTARUNE. Meet ne...   \n",
       "875  An expansion to Elden Ring setting players on ...   \n",
       "\n",
       "                                               Reviews Plays Playing Backlogs  \\\n",
       "421  ['Spamton is so hot, I want to kiss him in the...  1.3K      83      468   \n",
       "875  ['I really loved that they integrated Family G...     1       0       39   \n",
       "\n",
       "    Wishlist  \n",
       "421      617  \n",
       "875      146  "
      ]
     },
     "execution_count": 15,
     "metadata": {},
     "output_type": "execute_result"
    }
   ],
   "source": [
    "#df[df['Release Date'].str.len()<12]\n",
    "#df[df['Release Date'].str.len()==12]\n",
    "#df[~(df['Release Date'].str.contains(','))]\n",
    "df[(df['Release Date'].str.len()!=12) | ~(df['Release Date'].str.contains(','))]"
   ]
  },
  {
   "attachments": {},
   "cell_type": "markdown",
   "metadata": {},
   "source": [
    "Different patterns were used to find irregular date patterns. And as a result, only 2 rows had a different date format in which the date was not mentioned.\n",
    "Thus, we will drop these 2 rows since the games are not even released yet."
   ]
  },
  {
   "cell_type": "code",
   "execution_count": 16,
   "metadata": {},
   "outputs": [],
   "source": [
    "df=df.loc[~((df['Release Date'].str.len()!=12) | ~(df['Release Date'].str.contains(',')))]"
   ]
  },
  {
   "attachments": {},
   "cell_type": "markdown",
   "metadata": {},
   "source": [
    "Now, we will convert the Release date to datetime"
   ]
  },
  {
   "cell_type": "code",
   "execution_count": 17,
   "metadata": {},
   "outputs": [],
   "source": [
    "df['Release Date']=pd.to_datetime(df['Release Date']).copy()"
   ]
  },
  {
   "cell_type": "code",
   "execution_count": 18,
   "metadata": {},
   "outputs": [
    {
     "data": {
      "text/plain": [
       "0      2022-02-25\n",
       "1      2019-12-10\n",
       "2      2017-03-03\n",
       "3      2015-09-15\n",
       "4      2017-02-24\n",
       "          ...    \n",
       "1109   2010-12-22\n",
       "1110   2019-05-21\n",
       "1111   2012-05-22\n",
       "1112   2020-10-06\n",
       "1113   2014-02-04\n",
       "Name: Release Date, Length: 1099, dtype: datetime64[ns]"
      ]
     },
     "execution_count": 18,
     "metadata": {},
     "output_type": "execute_result"
    }
   ],
   "source": [
    "df['Release Date']"
   ]
  },
  {
   "attachments": {},
   "cell_type": "markdown",
   "metadata": {},
   "source": [
    "the columns: ['Times Listed', 'Number of Reviews', 'Plays', 'Playing', 'Backlogs', 'Wishlist'] are supposed to be integers.\n",
    "But they're of type object because they contain the letter 'K' which replaces \"000\".   \n",
    "We will deal with that in this line"
   ]
  },
  {
   "cell_type": "code",
   "execution_count": 19,
   "metadata": {},
   "outputs": [],
   "source": [
    "for col in ['Times Listed', 'Number of Reviews', 'Plays', 'Playing', 'Backlogs', 'Wishlist']:\n",
    "    df[col]=df[col].replace({\"K\":\"*1e3\"}, regex=True).map(pd.eval).astype(int)"
   ]
  },
  {
   "cell_type": "code",
   "execution_count": 20,
   "metadata": {},
   "outputs": [
    {
     "data": {
      "text/html": [
       "<div>\n",
       "<style scoped>\n",
       "    .dataframe tbody tr th:only-of-type {\n",
       "        vertical-align: middle;\n",
       "    }\n",
       "\n",
       "    .dataframe tbody tr th {\n",
       "        vertical-align: top;\n",
       "    }\n",
       "\n",
       "    .dataframe thead th {\n",
       "        text-align: right;\n",
       "    }\n",
       "</style>\n",
       "<table border=\"1\" class=\"dataframe\">\n",
       "  <thead>\n",
       "    <tr style=\"text-align: right;\">\n",
       "      <th></th>\n",
       "      <th>Title</th>\n",
       "      <th>Release Date</th>\n",
       "      <th>Team</th>\n",
       "      <th>Rating</th>\n",
       "      <th>Times Listed</th>\n",
       "      <th>Number of Reviews</th>\n",
       "      <th>Genres</th>\n",
       "      <th>Summary</th>\n",
       "      <th>Reviews</th>\n",
       "      <th>Plays</th>\n",
       "      <th>Playing</th>\n",
       "      <th>Backlogs</th>\n",
       "      <th>Wishlist</th>\n",
       "    </tr>\n",
       "  </thead>\n",
       "  <tbody>\n",
       "    <tr>\n",
       "      <th>0</th>\n",
       "      <td>Elden Ring</td>\n",
       "      <td>2022-02-25</td>\n",
       "      <td>['Bandai Namco Entertainment', 'FromSoftware']</td>\n",
       "      <td>4.5</td>\n",
       "      <td>3900</td>\n",
       "      <td>3900</td>\n",
       "      <td>['Adventure', 'RPG']</td>\n",
       "      <td>Elden Ring is a fantasy, action and open world...</td>\n",
       "      <td>[\"The first playthrough of elden ring is one o...</td>\n",
       "      <td>17000</td>\n",
       "      <td>3800</td>\n",
       "      <td>4600</td>\n",
       "      <td>4800</td>\n",
       "    </tr>\n",
       "    <tr>\n",
       "      <th>1</th>\n",
       "      <td>Hades</td>\n",
       "      <td>2019-12-10</td>\n",
       "      <td>['Supergiant Games']</td>\n",
       "      <td>4.3</td>\n",
       "      <td>2900</td>\n",
       "      <td>2900</td>\n",
       "      <td>['Adventure', 'Brawler', 'Indie', 'RPG']</td>\n",
       "      <td>A rogue-lite hack and slash dungeon crawler in...</td>\n",
       "      <td>['convinced this is a roguelike for people who...</td>\n",
       "      <td>21000</td>\n",
       "      <td>3200</td>\n",
       "      <td>6300</td>\n",
       "      <td>3600</td>\n",
       "    </tr>\n",
       "    <tr>\n",
       "      <th>2</th>\n",
       "      <td>The Legend of Zelda: Breath of the Wild</td>\n",
       "      <td>2017-03-03</td>\n",
       "      <td>['Nintendo', 'Nintendo EPD Production Group No...</td>\n",
       "      <td>4.4</td>\n",
       "      <td>4300</td>\n",
       "      <td>4300</td>\n",
       "      <td>['Adventure', 'RPG']</td>\n",
       "      <td>The Legend of Zelda: Breath of the Wild is the...</td>\n",
       "      <td>['This game is the game (that is not CS:GO) th...</td>\n",
       "      <td>30000</td>\n",
       "      <td>2500</td>\n",
       "      <td>5000</td>\n",
       "      <td>2600</td>\n",
       "    </tr>\n",
       "    <tr>\n",
       "      <th>3</th>\n",
       "      <td>Undertale</td>\n",
       "      <td>2015-09-15</td>\n",
       "      <td>['tobyfox', '8-4']</td>\n",
       "      <td>4.2</td>\n",
       "      <td>3500</td>\n",
       "      <td>3500</td>\n",
       "      <td>['Adventure', 'Indie', 'RPG', 'Turn Based Stra...</td>\n",
       "      <td>A small child falls into the Underground, wher...</td>\n",
       "      <td>['soundtrack is tied for #1 with nier automata...</td>\n",
       "      <td>28000</td>\n",
       "      <td>679</td>\n",
       "      <td>4900</td>\n",
       "      <td>1800</td>\n",
       "    </tr>\n",
       "    <tr>\n",
       "      <th>4</th>\n",
       "      <td>Hollow Knight</td>\n",
       "      <td>2017-02-24</td>\n",
       "      <td>['Team Cherry']</td>\n",
       "      <td>4.4</td>\n",
       "      <td>3000</td>\n",
       "      <td>3000</td>\n",
       "      <td>['Adventure', 'Indie', 'Platform']</td>\n",
       "      <td>A 2D metroidvania with an emphasis on close co...</td>\n",
       "      <td>[\"this games worldbuilding is incredible, with...</td>\n",
       "      <td>21000</td>\n",
       "      <td>2400</td>\n",
       "      <td>8300</td>\n",
       "      <td>2300</td>\n",
       "    </tr>\n",
       "    <tr>\n",
       "      <th>5</th>\n",
       "      <td>Minecraft</td>\n",
       "      <td>2011-11-18</td>\n",
       "      <td>['Mojang Studios']</td>\n",
       "      <td>4.3</td>\n",
       "      <td>2300</td>\n",
       "      <td>2300</td>\n",
       "      <td>['Adventure', 'Simulator']</td>\n",
       "      <td>Minecraft focuses on allowing the player to ex...</td>\n",
       "      <td>['Minecraft is what you make of it. Unfortunat...</td>\n",
       "      <td>33000</td>\n",
       "      <td>1800</td>\n",
       "      <td>1100</td>\n",
       "      <td>230</td>\n",
       "    </tr>\n",
       "    <tr>\n",
       "      <th>6</th>\n",
       "      <td>Omori</td>\n",
       "      <td>2020-12-25</td>\n",
       "      <td>['OMOCAT', 'PLAYISM']</td>\n",
       "      <td>4.2</td>\n",
       "      <td>1600</td>\n",
       "      <td>1600</td>\n",
       "      <td>['Adventure', 'Indie', 'RPG', 'Turn Based Stra...</td>\n",
       "      <td>A turn-based surreal horror RPG in which a chi...</td>\n",
       "      <td>[\"The best game I've played in my life\", \"omor...</td>\n",
       "      <td>7200</td>\n",
       "      <td>1100</td>\n",
       "      <td>4500</td>\n",
       "      <td>3800</td>\n",
       "    </tr>\n",
       "    <tr>\n",
       "      <th>7</th>\n",
       "      <td>Metroid Dread</td>\n",
       "      <td>2021-10-07</td>\n",
       "      <td>['Nintendo', 'MercurySteam']</td>\n",
       "      <td>4.3</td>\n",
       "      <td>2100</td>\n",
       "      <td>2100</td>\n",
       "      <td>['Adventure', 'Platform']</td>\n",
       "      <td>Join intergalactic bounty hunter Samus Aran in...</td>\n",
       "      <td>['Have only been a Metroid fan for couple of y...</td>\n",
       "      <td>9200</td>\n",
       "      <td>759</td>\n",
       "      <td>3400</td>\n",
       "      <td>3300</td>\n",
       "    </tr>\n",
       "    <tr>\n",
       "      <th>8</th>\n",
       "      <td>Among Us</td>\n",
       "      <td>2018-06-15</td>\n",
       "      <td>['InnerSloth']</td>\n",
       "      <td>3.0</td>\n",
       "      <td>867</td>\n",
       "      <td>867</td>\n",
       "      <td>['Indie', 'Strategy']</td>\n",
       "      <td>Join your crew-mates in a multiplayer game of ...</td>\n",
       "      <td>[\"it's a solid party game. i'm bad at lying th...</td>\n",
       "      <td>25000</td>\n",
       "      <td>470</td>\n",
       "      <td>776</td>\n",
       "      <td>126</td>\n",
       "    </tr>\n",
       "    <tr>\n",
       "      <th>9</th>\n",
       "      <td>NieR: Automata</td>\n",
       "      <td>2017-02-23</td>\n",
       "      <td>['PlatinumGames', 'Square Enix']</td>\n",
       "      <td>4.3</td>\n",
       "      <td>2900</td>\n",
       "      <td>2900</td>\n",
       "      <td>['Brawler', 'RPG']</td>\n",
       "      <td>NieR: Automata tells the story of androids 2B,...</td>\n",
       "      <td>['Holy shit', 'im carrying the weight of the w...</td>\n",
       "      <td>18000</td>\n",
       "      <td>1100</td>\n",
       "      <td>6200</td>\n",
       "      <td>3600</td>\n",
       "    </tr>\n",
       "  </tbody>\n",
       "</table>\n",
       "</div>"
      ],
      "text/plain": [
       "                                     Title Release Date  \\\n",
       "0                               Elden Ring   2022-02-25   \n",
       "1                                    Hades   2019-12-10   \n",
       "2  The Legend of Zelda: Breath of the Wild   2017-03-03   \n",
       "3                                Undertale   2015-09-15   \n",
       "4                            Hollow Knight   2017-02-24   \n",
       "5                                Minecraft   2011-11-18   \n",
       "6                                    Omori   2020-12-25   \n",
       "7                            Metroid Dread   2021-10-07   \n",
       "8                                 Among Us   2018-06-15   \n",
       "9                           NieR: Automata   2017-02-23   \n",
       "\n",
       "                                                Team  Rating  Times Listed  \\\n",
       "0     ['Bandai Namco Entertainment', 'FromSoftware']     4.5          3900   \n",
       "1                               ['Supergiant Games']     4.3          2900   \n",
       "2  ['Nintendo', 'Nintendo EPD Production Group No...     4.4          4300   \n",
       "3                                 ['tobyfox', '8-4']     4.2          3500   \n",
       "4                                    ['Team Cherry']     4.4          3000   \n",
       "5                                 ['Mojang Studios']     4.3          2300   \n",
       "6                              ['OMOCAT', 'PLAYISM']     4.2          1600   \n",
       "7                       ['Nintendo', 'MercurySteam']     4.3          2100   \n",
       "8                                     ['InnerSloth']     3.0           867   \n",
       "9                   ['PlatinumGames', 'Square Enix']     4.3          2900   \n",
       "\n",
       "   Number of Reviews                                             Genres  \\\n",
       "0               3900                               ['Adventure', 'RPG']   \n",
       "1               2900           ['Adventure', 'Brawler', 'Indie', 'RPG']   \n",
       "2               4300                               ['Adventure', 'RPG']   \n",
       "3               3500  ['Adventure', 'Indie', 'RPG', 'Turn Based Stra...   \n",
       "4               3000                 ['Adventure', 'Indie', 'Platform']   \n",
       "5               2300                         ['Adventure', 'Simulator']   \n",
       "6               1600  ['Adventure', 'Indie', 'RPG', 'Turn Based Stra...   \n",
       "7               2100                          ['Adventure', 'Platform']   \n",
       "8                867                              ['Indie', 'Strategy']   \n",
       "9               2900                                 ['Brawler', 'RPG']   \n",
       "\n",
       "                                             Summary  \\\n",
       "0  Elden Ring is a fantasy, action and open world...   \n",
       "1  A rogue-lite hack and slash dungeon crawler in...   \n",
       "2  The Legend of Zelda: Breath of the Wild is the...   \n",
       "3  A small child falls into the Underground, wher...   \n",
       "4  A 2D metroidvania with an emphasis on close co...   \n",
       "5  Minecraft focuses on allowing the player to ex...   \n",
       "6  A turn-based surreal horror RPG in which a chi...   \n",
       "7  Join intergalactic bounty hunter Samus Aran in...   \n",
       "8  Join your crew-mates in a multiplayer game of ...   \n",
       "9  NieR: Automata tells the story of androids 2B,...   \n",
       "\n",
       "                                             Reviews  Plays  Playing  \\\n",
       "0  [\"The first playthrough of elden ring is one o...  17000     3800   \n",
       "1  ['convinced this is a roguelike for people who...  21000     3200   \n",
       "2  ['This game is the game (that is not CS:GO) th...  30000     2500   \n",
       "3  ['soundtrack is tied for #1 with nier automata...  28000      679   \n",
       "4  [\"this games worldbuilding is incredible, with...  21000     2400   \n",
       "5  ['Minecraft is what you make of it. Unfortunat...  33000     1800   \n",
       "6  [\"The best game I've played in my life\", \"omor...   7200     1100   \n",
       "7  ['Have only been a Metroid fan for couple of y...   9200      759   \n",
       "8  [\"it's a solid party game. i'm bad at lying th...  25000      470   \n",
       "9  ['Holy shit', 'im carrying the weight of the w...  18000     1100   \n",
       "\n",
       "   Backlogs  Wishlist  \n",
       "0      4600      4800  \n",
       "1      6300      3600  \n",
       "2      5000      2600  \n",
       "3      4900      1800  \n",
       "4      8300      2300  \n",
       "5      1100       230  \n",
       "6      4500      3800  \n",
       "7      3400      3300  \n",
       "8       776       126  \n",
       "9      6200      3600  "
      ]
     },
     "execution_count": 20,
     "metadata": {},
     "output_type": "execute_result"
    }
   ],
   "source": [
    "df.head(10)"
   ]
  },
  {
   "attachments": {},
   "cell_type": "markdown",
   "metadata": {},
   "source": [
    "# Exploratory Data analysis\n",
    "For the EDA, we will make few changes:  \n",
    "1. Create a new dataframe which we will call \"df1\"\n",
    "2. explode the \"Genre\" column to be able to run an EDA on the separate genres using the groupby.  \n",
    "Note: We will only using this new df when we're grouping by genres. Other than that, we will have repeating entries, thus an inaccurate analysis"
   ]
  },
  {
   "attachments": {},
   "cell_type": "markdown",
   "metadata": {},
   "source": [
    "Creating new df and adding new column \"Year\" to it as well as our original df"
   ]
  },
  {
   "cell_type": "code",
   "execution_count": 21,
   "metadata": {},
   "outputs": [],
   "source": [
    "df1=df\n",
    "df1['Year']=df['Release Date'].dt.year\n",
    "df['Year']= df['Release Date'].dt.year"
   ]
  },
  {
   "attachments": {},
   "cell_type": "markdown",
   "metadata": {},
   "source": [
    "exploding the \"Genres\" column"
   ]
  },
  {
   "cell_type": "code",
   "execution_count": 22,
   "metadata": {},
   "outputs": [],
   "source": [
    "df1['Sep_Genres']= df['Genres'].apply(lambda x: [g.strip() for g in x.strip('[]').split(',')])\n",
    "df1= df1.explode('Sep_Genres')\n",
    "df1['Sep_Genres']= df1['Sep_Genres'].str.strip(\"'\")"
   ]
  },
  {
   "cell_type": "code",
   "execution_count": null,
   "metadata": {},
   "outputs": [
    {
     "data": {
      "text/html": [
       "<div>\n",
       "<style scoped>\n",
       "    .dataframe tbody tr th:only-of-type {\n",
       "        vertical-align: middle;\n",
       "    }\n",
       "\n",
       "    .dataframe tbody tr th {\n",
       "        vertical-align: top;\n",
       "    }\n",
       "\n",
       "    .dataframe thead th {\n",
       "        text-align: right;\n",
       "    }\n",
       "</style>\n",
       "<table border=\"1\" class=\"dataframe\">\n",
       "  <thead>\n",
       "    <tr style=\"text-align: right;\">\n",
       "      <th></th>\n",
       "      <th>Title</th>\n",
       "      <th>Release Date</th>\n",
       "      <th>Team</th>\n",
       "      <th>Rating</th>\n",
       "      <th>Times Listed</th>\n",
       "      <th>Number of Reviews</th>\n",
       "      <th>Genres</th>\n",
       "      <th>Summary</th>\n",
       "      <th>Reviews</th>\n",
       "      <th>Plays</th>\n",
       "      <th>Playing</th>\n",
       "      <th>Backlogs</th>\n",
       "      <th>Wishlist</th>\n",
       "      <th>Year</th>\n",
       "      <th>Sep_Genres</th>\n",
       "    </tr>\n",
       "  </thead>\n",
       "  <tbody>\n",
       "    <tr>\n",
       "      <th>0</th>\n",
       "      <td>Elden Ring</td>\n",
       "      <td>2022-02-25</td>\n",
       "      <td>['Bandai Namco Entertainment', 'FromSoftware']</td>\n",
       "      <td>4.5</td>\n",
       "      <td>3900</td>\n",
       "      <td>3900</td>\n",
       "      <td>['Adventure', 'RPG']</td>\n",
       "      <td>Elden Ring is a fantasy, action and open world...</td>\n",
       "      <td>[\"The first playthrough of elden ring is one o...</td>\n",
       "      <td>17000</td>\n",
       "      <td>3800</td>\n",
       "      <td>4600</td>\n",
       "      <td>4800</td>\n",
       "      <td>2022</td>\n",
       "      <td>Adventure</td>\n",
       "    </tr>\n",
       "    <tr>\n",
       "      <th>0</th>\n",
       "      <td>Elden Ring</td>\n",
       "      <td>2022-02-25</td>\n",
       "      <td>['Bandai Namco Entertainment', 'FromSoftware']</td>\n",
       "      <td>4.5</td>\n",
       "      <td>3900</td>\n",
       "      <td>3900</td>\n",
       "      <td>['Adventure', 'RPG']</td>\n",
       "      <td>Elden Ring is a fantasy, action and open world...</td>\n",
       "      <td>[\"The first playthrough of elden ring is one o...</td>\n",
       "      <td>17000</td>\n",
       "      <td>3800</td>\n",
       "      <td>4600</td>\n",
       "      <td>4800</td>\n",
       "      <td>2022</td>\n",
       "      <td>RPG</td>\n",
       "    </tr>\n",
       "    <tr>\n",
       "      <th>1</th>\n",
       "      <td>Hades</td>\n",
       "      <td>2019-12-10</td>\n",
       "      <td>['Supergiant Games']</td>\n",
       "      <td>4.3</td>\n",
       "      <td>2900</td>\n",
       "      <td>2900</td>\n",
       "      <td>['Adventure', 'Brawler', 'Indie', 'RPG']</td>\n",
       "      <td>A rogue-lite hack and slash dungeon crawler in...</td>\n",
       "      <td>['convinced this is a roguelike for people who...</td>\n",
       "      <td>21000</td>\n",
       "      <td>3200</td>\n",
       "      <td>6300</td>\n",
       "      <td>3600</td>\n",
       "      <td>2019</td>\n",
       "      <td>Adventure</td>\n",
       "    </tr>\n",
       "    <tr>\n",
       "      <th>1</th>\n",
       "      <td>Hades</td>\n",
       "      <td>2019-12-10</td>\n",
       "      <td>['Supergiant Games']</td>\n",
       "      <td>4.3</td>\n",
       "      <td>2900</td>\n",
       "      <td>2900</td>\n",
       "      <td>['Adventure', 'Brawler', 'Indie', 'RPG']</td>\n",
       "      <td>A rogue-lite hack and slash dungeon crawler in...</td>\n",
       "      <td>['convinced this is a roguelike for people who...</td>\n",
       "      <td>21000</td>\n",
       "      <td>3200</td>\n",
       "      <td>6300</td>\n",
       "      <td>3600</td>\n",
       "      <td>2019</td>\n",
       "      <td>Brawler</td>\n",
       "    </tr>\n",
       "    <tr>\n",
       "      <th>1</th>\n",
       "      <td>Hades</td>\n",
       "      <td>2019-12-10</td>\n",
       "      <td>['Supergiant Games']</td>\n",
       "      <td>4.3</td>\n",
       "      <td>2900</td>\n",
       "      <td>2900</td>\n",
       "      <td>['Adventure', 'Brawler', 'Indie', 'RPG']</td>\n",
       "      <td>A rogue-lite hack and slash dungeon crawler in...</td>\n",
       "      <td>['convinced this is a roguelike for people who...</td>\n",
       "      <td>21000</td>\n",
       "      <td>3200</td>\n",
       "      <td>6300</td>\n",
       "      <td>3600</td>\n",
       "      <td>2019</td>\n",
       "      <td>Indie</td>\n",
       "    </tr>\n",
       "    <tr>\n",
       "      <th>1</th>\n",
       "      <td>Hades</td>\n",
       "      <td>2019-12-10</td>\n",
       "      <td>['Supergiant Games']</td>\n",
       "      <td>4.3</td>\n",
       "      <td>2900</td>\n",
       "      <td>2900</td>\n",
       "      <td>['Adventure', 'Brawler', 'Indie', 'RPG']</td>\n",
       "      <td>A rogue-lite hack and slash dungeon crawler in...</td>\n",
       "      <td>['convinced this is a roguelike for people who...</td>\n",
       "      <td>21000</td>\n",
       "      <td>3200</td>\n",
       "      <td>6300</td>\n",
       "      <td>3600</td>\n",
       "      <td>2019</td>\n",
       "      <td>RPG</td>\n",
       "    </tr>\n",
       "    <tr>\n",
       "      <th>2</th>\n",
       "      <td>The Legend of Zelda: Breath of the Wild</td>\n",
       "      <td>2017-03-03</td>\n",
       "      <td>['Nintendo', 'Nintendo EPD Production Group No...</td>\n",
       "      <td>4.4</td>\n",
       "      <td>4300</td>\n",
       "      <td>4300</td>\n",
       "      <td>['Adventure', 'RPG']</td>\n",
       "      <td>The Legend of Zelda: Breath of the Wild is the...</td>\n",
       "      <td>['This game is the game (that is not CS:GO) th...</td>\n",
       "      <td>30000</td>\n",
       "      <td>2500</td>\n",
       "      <td>5000</td>\n",
       "      <td>2600</td>\n",
       "      <td>2017</td>\n",
       "      <td>Adventure</td>\n",
       "    </tr>\n",
       "    <tr>\n",
       "      <th>2</th>\n",
       "      <td>The Legend of Zelda: Breath of the Wild</td>\n",
       "      <td>2017-03-03</td>\n",
       "      <td>['Nintendo', 'Nintendo EPD Production Group No...</td>\n",
       "      <td>4.4</td>\n",
       "      <td>4300</td>\n",
       "      <td>4300</td>\n",
       "      <td>['Adventure', 'RPG']</td>\n",
       "      <td>The Legend of Zelda: Breath of the Wild is the...</td>\n",
       "      <td>['This game is the game (that is not CS:GO) th...</td>\n",
       "      <td>30000</td>\n",
       "      <td>2500</td>\n",
       "      <td>5000</td>\n",
       "      <td>2600</td>\n",
       "      <td>2017</td>\n",
       "      <td>RPG</td>\n",
       "    </tr>\n",
       "    <tr>\n",
       "      <th>3</th>\n",
       "      <td>Undertale</td>\n",
       "      <td>2015-09-15</td>\n",
       "      <td>['tobyfox', '8-4']</td>\n",
       "      <td>4.2</td>\n",
       "      <td>3500</td>\n",
       "      <td>3500</td>\n",
       "      <td>['Adventure', 'Indie', 'RPG', 'Turn Based Stra...</td>\n",
       "      <td>A small child falls into the Underground, wher...</td>\n",
       "      <td>['soundtrack is tied for #1 with nier automata...</td>\n",
       "      <td>28000</td>\n",
       "      <td>679</td>\n",
       "      <td>4900</td>\n",
       "      <td>1800</td>\n",
       "      <td>2015</td>\n",
       "      <td>Adventure</td>\n",
       "    </tr>\n",
       "    <tr>\n",
       "      <th>3</th>\n",
       "      <td>Undertale</td>\n",
       "      <td>2015-09-15</td>\n",
       "      <td>['tobyfox', '8-4']</td>\n",
       "      <td>4.2</td>\n",
       "      <td>3500</td>\n",
       "      <td>3500</td>\n",
       "      <td>['Adventure', 'Indie', 'RPG', 'Turn Based Stra...</td>\n",
       "      <td>A small child falls into the Underground, wher...</td>\n",
       "      <td>['soundtrack is tied for #1 with nier automata...</td>\n",
       "      <td>28000</td>\n",
       "      <td>679</td>\n",
       "      <td>4900</td>\n",
       "      <td>1800</td>\n",
       "      <td>2015</td>\n",
       "      <td>Indie</td>\n",
       "    </tr>\n",
       "    <tr>\n",
       "      <th>3</th>\n",
       "      <td>Undertale</td>\n",
       "      <td>2015-09-15</td>\n",
       "      <td>['tobyfox', '8-4']</td>\n",
       "      <td>4.2</td>\n",
       "      <td>3500</td>\n",
       "      <td>3500</td>\n",
       "      <td>['Adventure', 'Indie', 'RPG', 'Turn Based Stra...</td>\n",
       "      <td>A small child falls into the Underground, wher...</td>\n",
       "      <td>['soundtrack is tied for #1 with nier automata...</td>\n",
       "      <td>28000</td>\n",
       "      <td>679</td>\n",
       "      <td>4900</td>\n",
       "      <td>1800</td>\n",
       "      <td>2015</td>\n",
       "      <td>RPG</td>\n",
       "    </tr>\n",
       "    <tr>\n",
       "      <th>3</th>\n",
       "      <td>Undertale</td>\n",
       "      <td>2015-09-15</td>\n",
       "      <td>['tobyfox', '8-4']</td>\n",
       "      <td>4.2</td>\n",
       "      <td>3500</td>\n",
       "      <td>3500</td>\n",
       "      <td>['Adventure', 'Indie', 'RPG', 'Turn Based Stra...</td>\n",
       "      <td>A small child falls into the Underground, wher...</td>\n",
       "      <td>['soundtrack is tied for #1 with nier automata...</td>\n",
       "      <td>28000</td>\n",
       "      <td>679</td>\n",
       "      <td>4900</td>\n",
       "      <td>1800</td>\n",
       "      <td>2015</td>\n",
       "      <td>Turn Based Strategy</td>\n",
       "    </tr>\n",
       "    <tr>\n",
       "      <th>4</th>\n",
       "      <td>Hollow Knight</td>\n",
       "      <td>2017-02-24</td>\n",
       "      <td>['Team Cherry']</td>\n",
       "      <td>4.4</td>\n",
       "      <td>3000</td>\n",
       "      <td>3000</td>\n",
       "      <td>['Adventure', 'Indie', 'Platform']</td>\n",
       "      <td>A 2D metroidvania with an emphasis on close co...</td>\n",
       "      <td>[\"this games worldbuilding is incredible, with...</td>\n",
       "      <td>21000</td>\n",
       "      <td>2400</td>\n",
       "      <td>8300</td>\n",
       "      <td>2300</td>\n",
       "      <td>2017</td>\n",
       "      <td>Adventure</td>\n",
       "    </tr>\n",
       "    <tr>\n",
       "      <th>4</th>\n",
       "      <td>Hollow Knight</td>\n",
       "      <td>2017-02-24</td>\n",
       "      <td>['Team Cherry']</td>\n",
       "      <td>4.4</td>\n",
       "      <td>3000</td>\n",
       "      <td>3000</td>\n",
       "      <td>['Adventure', 'Indie', 'Platform']</td>\n",
       "      <td>A 2D metroidvania with an emphasis on close co...</td>\n",
       "      <td>[\"this games worldbuilding is incredible, with...</td>\n",
       "      <td>21000</td>\n",
       "      <td>2400</td>\n",
       "      <td>8300</td>\n",
       "      <td>2300</td>\n",
       "      <td>2017</td>\n",
       "      <td>Indie</td>\n",
       "    </tr>\n",
       "    <tr>\n",
       "      <th>4</th>\n",
       "      <td>Hollow Knight</td>\n",
       "      <td>2017-02-24</td>\n",
       "      <td>['Team Cherry']</td>\n",
       "      <td>4.4</td>\n",
       "      <td>3000</td>\n",
       "      <td>3000</td>\n",
       "      <td>['Adventure', 'Indie', 'Platform']</td>\n",
       "      <td>A 2D metroidvania with an emphasis on close co...</td>\n",
       "      <td>[\"this games worldbuilding is incredible, with...</td>\n",
       "      <td>21000</td>\n",
       "      <td>2400</td>\n",
       "      <td>8300</td>\n",
       "      <td>2300</td>\n",
       "      <td>2017</td>\n",
       "      <td>Platform</td>\n",
       "    </tr>\n",
       "  </tbody>\n",
       "</table>\n",
       "</div>"
      ],
      "text/plain": [
       "                                     Title Release Date  \\\n",
       "0                               Elden Ring   2022-02-25   \n",
       "0                               Elden Ring   2022-02-25   \n",
       "1                                    Hades   2019-12-10   \n",
       "1                                    Hades   2019-12-10   \n",
       "1                                    Hades   2019-12-10   \n",
       "1                                    Hades   2019-12-10   \n",
       "2  The Legend of Zelda: Breath of the Wild   2017-03-03   \n",
       "2  The Legend of Zelda: Breath of the Wild   2017-03-03   \n",
       "3                                Undertale   2015-09-15   \n",
       "3                                Undertale   2015-09-15   \n",
       "3                                Undertale   2015-09-15   \n",
       "3                                Undertale   2015-09-15   \n",
       "4                            Hollow Knight   2017-02-24   \n",
       "4                            Hollow Knight   2017-02-24   \n",
       "4                            Hollow Knight   2017-02-24   \n",
       "\n",
       "                                                Team  Rating  Times Listed  \\\n",
       "0     ['Bandai Namco Entertainment', 'FromSoftware']     4.5          3900   \n",
       "0     ['Bandai Namco Entertainment', 'FromSoftware']     4.5          3900   \n",
       "1                               ['Supergiant Games']     4.3          2900   \n",
       "1                               ['Supergiant Games']     4.3          2900   \n",
       "1                               ['Supergiant Games']     4.3          2900   \n",
       "1                               ['Supergiant Games']     4.3          2900   \n",
       "2  ['Nintendo', 'Nintendo EPD Production Group No...     4.4          4300   \n",
       "2  ['Nintendo', 'Nintendo EPD Production Group No...     4.4          4300   \n",
       "3                                 ['tobyfox', '8-4']     4.2          3500   \n",
       "3                                 ['tobyfox', '8-4']     4.2          3500   \n",
       "3                                 ['tobyfox', '8-4']     4.2          3500   \n",
       "3                                 ['tobyfox', '8-4']     4.2          3500   \n",
       "4                                    ['Team Cherry']     4.4          3000   \n",
       "4                                    ['Team Cherry']     4.4          3000   \n",
       "4                                    ['Team Cherry']     4.4          3000   \n",
       "\n",
       "   Number of Reviews                                             Genres  \\\n",
       "0               3900                               ['Adventure', 'RPG']   \n",
       "0               3900                               ['Adventure', 'RPG']   \n",
       "1               2900           ['Adventure', 'Brawler', 'Indie', 'RPG']   \n",
       "1               2900           ['Adventure', 'Brawler', 'Indie', 'RPG']   \n",
       "1               2900           ['Adventure', 'Brawler', 'Indie', 'RPG']   \n",
       "1               2900           ['Adventure', 'Brawler', 'Indie', 'RPG']   \n",
       "2               4300                               ['Adventure', 'RPG']   \n",
       "2               4300                               ['Adventure', 'RPG']   \n",
       "3               3500  ['Adventure', 'Indie', 'RPG', 'Turn Based Stra...   \n",
       "3               3500  ['Adventure', 'Indie', 'RPG', 'Turn Based Stra...   \n",
       "3               3500  ['Adventure', 'Indie', 'RPG', 'Turn Based Stra...   \n",
       "3               3500  ['Adventure', 'Indie', 'RPG', 'Turn Based Stra...   \n",
       "4               3000                 ['Adventure', 'Indie', 'Platform']   \n",
       "4               3000                 ['Adventure', 'Indie', 'Platform']   \n",
       "4               3000                 ['Adventure', 'Indie', 'Platform']   \n",
       "\n",
       "                                             Summary  \\\n",
       "0  Elden Ring is a fantasy, action and open world...   \n",
       "0  Elden Ring is a fantasy, action and open world...   \n",
       "1  A rogue-lite hack and slash dungeon crawler in...   \n",
       "1  A rogue-lite hack and slash dungeon crawler in...   \n",
       "1  A rogue-lite hack and slash dungeon crawler in...   \n",
       "1  A rogue-lite hack and slash dungeon crawler in...   \n",
       "2  The Legend of Zelda: Breath of the Wild is the...   \n",
       "2  The Legend of Zelda: Breath of the Wild is the...   \n",
       "3  A small child falls into the Underground, wher...   \n",
       "3  A small child falls into the Underground, wher...   \n",
       "3  A small child falls into the Underground, wher...   \n",
       "3  A small child falls into the Underground, wher...   \n",
       "4  A 2D metroidvania with an emphasis on close co...   \n",
       "4  A 2D metroidvania with an emphasis on close co...   \n",
       "4  A 2D metroidvania with an emphasis on close co...   \n",
       "\n",
       "                                             Reviews  Plays  Playing  \\\n",
       "0  [\"The first playthrough of elden ring is one o...  17000     3800   \n",
       "0  [\"The first playthrough of elden ring is one o...  17000     3800   \n",
       "1  ['convinced this is a roguelike for people who...  21000     3200   \n",
       "1  ['convinced this is a roguelike for people who...  21000     3200   \n",
       "1  ['convinced this is a roguelike for people who...  21000     3200   \n",
       "1  ['convinced this is a roguelike for people who...  21000     3200   \n",
       "2  ['This game is the game (that is not CS:GO) th...  30000     2500   \n",
       "2  ['This game is the game (that is not CS:GO) th...  30000     2500   \n",
       "3  ['soundtrack is tied for #1 with nier automata...  28000      679   \n",
       "3  ['soundtrack is tied for #1 with nier automata...  28000      679   \n",
       "3  ['soundtrack is tied for #1 with nier automata...  28000      679   \n",
       "3  ['soundtrack is tied for #1 with nier automata...  28000      679   \n",
       "4  [\"this games worldbuilding is incredible, with...  21000     2400   \n",
       "4  [\"this games worldbuilding is incredible, with...  21000     2400   \n",
       "4  [\"this games worldbuilding is incredible, with...  21000     2400   \n",
       "\n",
       "   Backlogs  Wishlist  Year           Sep_Genres  \n",
       "0      4600      4800  2022            Adventure  \n",
       "0      4600      4800  2022                  RPG  \n",
       "1      6300      3600  2019            Adventure  \n",
       "1      6300      3600  2019              Brawler  \n",
       "1      6300      3600  2019                Indie  \n",
       "1      6300      3600  2019                  RPG  \n",
       "2      5000      2600  2017            Adventure  \n",
       "2      5000      2600  2017                  RPG  \n",
       "3      4900      1800  2015            Adventure  \n",
       "3      4900      1800  2015                Indie  \n",
       "3      4900      1800  2015                  RPG  \n",
       "3      4900      1800  2015  Turn Based Strategy  \n",
       "4      8300      2300  2017            Adventure  \n",
       "4      8300      2300  2017                Indie  \n",
       "4      8300      2300  2017             Platform  "
      ]
     },
     "execution_count": 43,
     "metadata": {},
     "output_type": "execute_result"
    }
   ],
   "source": [
    "df1.head(15)"
   ]
  },
  {
   "attachments": {},
   "cell_type": "markdown",
   "metadata": {},
   "source": [
    "### Visualizations"
   ]
  },
  {
   "attachments": {},
   "cell_type": "markdown",
   "metadata": {},
   "source": [
    "2022 most 8 popular games (most players)"
   ]
  },
  {
   "cell_type": "code",
   "execution_count": 24,
   "metadata": {},
   "outputs": [
    {
     "data": {
      "image/png": "[encoded data removed]",
      "text/plain": [
       "<Figure size 640x480 with 1 Axes>"
      ]
     },
     "metadata": {},
     "output_type": "display_data"
    }
   ],
   "source": [
    "ax = df[df['Release Date'].dt.year==2022][['Title', 'Release Date', 'Plays']].sort_values(by='Plays', ascending=False).head(8)\n",
    "ax.plot(kind='bar', x='Title', y='Plays', title='Most 2022 Games played', xlabel='Game Title', ylabel='Plays')\n",
    "plt.show()"
   ]
  },
  {
   "attachments": {},
   "cell_type": "markdown",
   "metadata": {},
   "source": [
    "most played genres in the past 5 years"
   ]
  },
  {
   "cell_type": "code",
   "execution_count": 25,
   "metadata": {},
   "outputs": [
    {
     "data": {
      "image/png": "[encoded data removed]",
      "text/plain": [
       "<Figure size 640x480 with 1 Axes>"
      ]
     },
     "metadata": {},
     "output_type": "display_data"
    }
   ],
   "source": [
    "df1.query('Year>2018').groupby(['Sep_Genres'])['Plays'].sum().reset_index()\\\n",
    "    .sort_values(by='Plays', ascending=False)\\\n",
    "        .head(5)\\\n",
    "          .plot(x='Sep_Genres', y='Plays', kind='bar', title='Most played Genres in the past 5 years',xlabel='Sep_Genres',ylabel='Total Playtime in hours')\n",
    "plt.show() "
   ]
  },
  {
   "attachments": {},
   "cell_type": "markdown",
   "metadata": {},
   "source": [
    "Games count grouped by rating interval, only counting for games who have received at least 100 reviews"
   ]
  },
  {
   "cell_type": "code",
   "execution_count": 26,
   "metadata": {},
   "outputs": [
    {
     "data": {
      "image/png": "[encoded data removed]",
      "text/plain": [
       "<Figure size 640x480 with 1 Axes>"
      ]
     },
     "metadata": {},
     "output_type": "display_data"
    }
   ],
   "source": [
    "bins=np.linspace(0,5,6)\n",
    "names=['under 1','1-1.9','2-2.9','3-3.9','4+']\n",
    "binned=pd.cut(df['Rating'],bins, labels=names, include_lowest=True)\n",
    "plt.hist(df[df['Number of Reviews']>=100]['Rating'], bins=bins, edgecolor='black')\n",
    "plt.title('Number of Games by Rating')\n",
    "plt.xlabel('Rating')\n",
    "plt.ylabel('Number of Games')\n",
    "plt.show()"
   ]
  },
  {
   "attachments": {},
   "cell_type": "markdown",
   "metadata": {},
   "source": [
    "Taking a look at the rating distribution for some of the genres that received a decent amount of reviews"
   ]
  },
  {
   "cell_type": "code",
   "execution_count": 27,
   "metadata": {},
   "outputs": [],
   "source": [
    "genre_rating = df1[(df1['Number of Reviews']>=250) & (df1['Year']>2018)].groupby('Sep_Genres')['Rating'].agg(['count','max','min','mean'])\\\n",
    "    .sort_values(by='mean', ascending=False).head(12)\\\n",
    "    .reset_index()\n",
    "genre_rating"
   ]
  },
  {
   "attachments": {},
   "cell_type": "markdown",
   "metadata": {},
   "source": [
    "Rating distribution Per Genre including only games that received at least 250 reviews"
   ]
  },
  {
   "cell_type": "code",
   "execution_count": 29,
   "metadata": {},
   "outputs": [
    {
     "data": {
      "application/vnd.plotly.v1+json": {
       "config": {
        "plotlyServerURL": "https://plot.ly"
       },
       "data": [
        {
         "alignmentgroup": "True",
         "hovertemplate": "Genre=%{x}<br>Rating=%{y}<extra></extra>",
         "legendgroup": "",
         "marker": {
          "color": "#636efa"
         },
         "name": "",
         "notched": false,
         "offsetgroup": "",
         "orientation": "v",
         "showlegend": false,
         "type": "box",
         "x": [
          "Adventure",
          "RPG",
          "Adventure",
          "Brawler",
          "Indie",
          "RPG",
          "Adventure",
          "Indie",
          "RPG",
          "Adventure",
          "Platform",
          "Adventure",
          "RPG",
          "Adventure",
          "Indie",
          "Adventure",
          "RPG",
          "Adventure",
          "Brawler",
          "Platform",
          "Adventure",
          "RPG",
          "Adventure",
          "Brawler",
          "Adventure",
          "RPG",
          "Adventure",
          "Platform",
          "Adventure",
          "Indie",
          "RPG",
          "Adventure",
          "RPG",
          "Adventure",
          "Brawler",
          "Adventure",
          "RPG",
          "Adventure",
          "Indie",
          "Adventure",
          "Adventure",
          "Indie",
          "Adventure",
          "Adventure",
          "RPG",
          "Adventure",
          "Indie",
          "Platform",
          "Adventure",
          "Brawler",
          "Adventure",
          "RPG",
          "Adventure",
          "Platform",
          "Adventure",
          "Indie",
          "Strategy",
          "Adventure",
          "Indie",
          "RPG",
          "Adventure",
          "Indie",
          "RPG",
          "Adventure",
          "RPG",
          "Adventure",
          "Brawler",
          "Adventure",
          "Adventure",
          "RPG",
          "Strategy",
          "Adventure",
          "Strategy",
          "Adventure",
          "RPG",
          "Strategy",
          "Adventure",
          "RPG",
          "Indie",
          "Platform",
          "Adventure",
          "Platform",
          "Adventure",
          "Platform",
          "Adventure",
          "RPG",
          "Adventure",
          "RPG",
          "Adventure",
          "Brawler",
          "Indie",
          "RPG",
          "Strategy",
          "Adventure",
          "Platform",
          "Adventure",
          "Indie",
          "Platform",
          "Strategy",
          "Adventure",
          "Brawler",
          "Indie",
          "Brawler",
          "Indie",
          "RPG",
          "Brawler",
          "Adventure",
          "RPG",
          "Adventure",
          "RPG",
          "Adventure",
          "Indie",
          "Adventure",
          "RPG",
          "Adventure",
          "RPG",
          "Adventure",
          "Brawler",
          "RPG",
          "Brawler",
          "RPG",
          "Adventure",
          "RPG",
          "Adventure",
          "RPG",
          "Adventure",
          "Brawler",
          "RPG",
          "Adventure",
          "RPG",
          "Adventure",
          "Adventure",
          "RPG",
          "Adventure",
          "RPG",
          "Adventure",
          "Adventure",
          "Platform",
          "Adventure",
          "Adventure",
          "RPG",
          "Brawler",
          "Adventure",
          "Platform",
          "Adventure",
          "RPG",
          "Adventure",
          "Indie",
          "RPG",
          "RPG",
          "Adventure",
          "Brawler",
          "Indie",
          "Platform",
          "RPG",
          "Indie",
          "Adventure",
          "Adventure",
          "RPG",
          "Strategy",
          "Adventure",
          "Indie",
          "Adventure",
          "RPG",
          "Adventure",
          "Adventure",
          "Indie",
          "Platform",
          "RPG",
          "Adventure",
          "Indie",
          "Adventure",
          "Indie",
          "Strategy",
          "Adventure",
          "Adventure",
          "Platform",
          "Brawler",
          "RPG",
          "Strategy",
          "Adventure",
          "Brawler",
          "Platform",
          "Adventure",
          "Indie",
          "Platform",
          "Adventure",
          "Platform",
          "Adventure",
          "Indie",
          "Indie",
          "RPG",
          "Adventure",
          "Brawler",
          "RPG",
          "Adventure",
          "RPG",
          "Adventure",
          "Indie",
          "Adventure",
          "Adventure",
          "Adventure",
          "Indie",
          "Adventure",
          "Indie",
          "Platform",
          "Adventure",
          "RPG",
          "Adventure",
          "Indie",
          "RPG",
          "Adventure",
          "RPG",
          "Adventure",
          "RPG",
          "Adventure",
          "Indie",
          "Platform",
          "RPG",
          "Adventure",
          "RPG",
          "Adventure",
          "Brawler",
          "RPG",
          "Adventure",
          "Adventure",
          "Indie",
          "RPG",
          "Adventure",
          "Adventure",
          "Brawler",
          "Adventure",
          "RPG",
          "Indie",
          "Platform",
          "Adventure",
          "Platform",
          "Adventure",
          "RPG",
          "Adventure",
          "Brawler",
          "Indie",
          "RPG",
          "RPG",
          "Adventure",
          "RPG",
          "Adventure",
          "Indie",
          "Adventure",
          "Indie",
          "Platform",
          "Adventure",
          "Platform",
          "Adventure",
          "Brawler",
          "RPG",
          "Adventure",
          "Brawler",
          "RPG",
          "Adventure",
          "Indie",
          "Adventure",
          "Indie",
          "Adventure",
          "RPG",
          "Adventure",
          "Indie",
          "Platform",
          "Adventure",
          "Indie",
          "Adventure",
          "RPG",
          "Adventure",
          "Adventure",
          "Adventure",
          "Adventure",
          "Brawler",
          "Platform",
          "Adventure",
          "Indie",
          "Adventure",
          "Brawler",
          "RPG",
          "RPG",
          "Adventure",
          "RPG",
          "Adventure",
          "RPG",
          "Adventure",
          "Indie",
          "RPG",
          "Adventure",
          "Indie",
          "Adventure",
          "Indie",
          "Platform",
          "RPG",
          "Adventure",
          "Indie",
          "Platform",
          "Adventure",
          "Indie",
          "RPG",
          "Indie",
          "RPG",
          "Adventure",
          "Adventure",
          "Brawler",
          "Indie",
          "Adventure",
          "Platform",
          "Strategy",
          "Adventure",
          "Indie",
          "Adventure",
          "RPG",
          "Brawler",
          "Indie",
          "Adventure",
          "Platform",
          "Adventure",
          "Strategy",
          "Adventure",
          "Adventure",
          "Indie",
          "Adventure",
          "Brawler",
          "Indie",
          "RPG",
          "Adventure",
          "Indie",
          "Platform",
          "Adventure",
          "Indie",
          "Platform",
          "Brawler",
          "Adventure",
          "RPG",
          "Adventure",
          "Platform",
          "Adventure",
          "Indie",
          "RPG",
          "Adventure",
          "Indie",
          "RPG",
          "Adventure",
          "Brawler",
          "Adventure",
          "RPG",
          "Adventure",
          "Adventure",
          "Indie",
          "Adventure",
          "Indie",
          "Adventure"
         ],
         "x0": " ",
         "xaxis": "x",
         "y": [
          4.5,
          4.5,
          4.3,
          4.3,
          4.3,
          4.3,
          4.2,
          4.2,
          4.2,
          4.3,
          4.3,
          4.4,
          4.4,
          3.7,
          3.7,
          3.7,
          3.7,
          4.3,
          4.3,
          4.3,
          3.3,
          3.3,
          4.4,
          4.4,
          4.4,
          4.4,
          4.2,
          4.2,
          4.6,
          4.6,
          4.6,
          4.2,
          4.2,
          4.4,
          4.4,
          2.6,
          2.6,
          4.2,
          4.2,
          3.9,
          4.6,
          4.6,
          4.3,
          3.8,
          3.8,
          4.1,
          4.1,
          4.1,
          4.3,
          4.3,
          4.1,
          4.1,
          3.6,
          3.6,
          4.1,
          4.1,
          4.1,
          3.9,
          3.9,
          3.9,
          4.3,
          4.3,
          4.3,
          3.9,
          3.9,
          3.9,
          3.9,
          3.7,
          4,
          4,
          4,
          4.4,
          4.4,
          3.9,
          3.9,
          3.9,
          3.5,
          3.5,
          4.5,
          4.5,
          4.2,
          4.2,
          4.5,
          4.5,
          3.3,
          4.3,
          3.8,
          3.8,
          3.6,
          3.6,
          3.6,
          3.6,
          3.6,
          3.6,
          4.1,
          4.1,
          4.1,
          4.1,
          4.1,
          3.5,
          3.8,
          3.8,
          3.8,
          3.8,
          4.1,
          3.7,
          4.6,
          4.6,
          3.5,
          3.5,
          3.2,
          3.6,
          3.6,
          3.6,
          4.3,
          4.3,
          4,
          4,
          4,
          4.2,
          4.2,
          3.5,
          3.5,
          3.8,
          3.8,
          3.7,
          3.7,
          3.7,
          3.6,
          3.6,
          4.1,
          3.9,
          3.9,
          3.7,
          3.7,
          3.9,
          4,
          4,
          3.9,
          4.2,
          4.2,
          3.9,
          4,
          4,
          3.8,
          3.8,
          4.1,
          4.1,
          4.1,
          3.1,
          3.7,
          3.7,
          3.7,
          3.7,
          3.7,
          3.9,
          4.4,
          4.5,
          4.5,
          4.5,
          3.3,
          3.3,
          2.9,
          2.9,
          4.1,
          3.5,
          3.5,
          3.5,
          3.5,
          3.6,
          3.6,
          4.2,
          4,
          4,
          3.6,
          3.5,
          3.5,
          3.6,
          3.6,
          3.6,
          3.6,
          3.6,
          3.7,
          3.9,
          3.9,
          3.9,
          4,
          4,
          3.9,
          3.9,
          3.7,
          3.7,
          4.1,
          4.1,
          4.1,
          3.8,
          4.4,
          3.9,
          3.9,
          3.7,
          3.7,
          3.7,
          3.7,
          4.3,
          4.3,
          4.3,
          4.2,
          4.2,
          4.1,
          4.1,
          4.1,
          4.4,
          4.4,
          3.1,
          3.1,
          3.8,
          3.8,
          3.8,
          3.8,
          3,
          3,
          4,
          4,
          4,
          2.7,
          3.8,
          3.8,
          3.8,
          2.5,
          3.6,
          3.6,
          3.5,
          3.5,
          3,
          3,
          4.2,
          4.2,
          4.3,
          4.3,
          3.8,
          3.8,
          3.8,
          3.8,
          3.8,
          3,
          3,
          3,
          3,
          4.3,
          4.3,
          4.3,
          4.3,
          4.3,
          3.5,
          3.5,
          3.5,
          4.3,
          4.3,
          4.3,
          2.4,
          2.4,
          3.3,
          3.3,
          4.6,
          4.6,
          4.1,
          4.1,
          4.1,
          3.7,
          3.7,
          3.2,
          3.2,
          2.9,
          4.1,
          3.1,
          3.7,
          3.7,
          3.8,
          3.6,
          3.6,
          4.2,
          4.2,
          3.2,
          4,
          3.5,
          3.5,
          4.2,
          4.2,
          3.9,
          3.9,
          3.9,
          3.6,
          3.6,
          4,
          4,
          4,
          4,
          4.1,
          4.1,
          4.1,
          4.3,
          4.3,
          4.3,
          3.7,
          4.6,
          3.2,
          2.7,
          2.7,
          2.7,
          3.8,
          3.8,
          3.8,
          3.6,
          3.6,
          2.9,
          2.9,
          3.9,
          3.9,
          3.5,
          3.5,
          3.9,
          3.9,
          4.6,
          4.2,
          4.2,
          3.5,
          3.5,
          3.5,
          3.5,
          3.3,
          3.3,
          3.3,
          3.3,
          3.3,
          3.3,
          4.5,
          2.9,
          2.9,
          3.9,
          3.9,
          3.7,
          3.7,
          3.7,
          4.1,
          4.1,
          4.1,
          3.5,
          3.5,
          3.2,
          3.2,
          3.4,
          3.5,
          3.5,
          4.1,
          4.1,
          3.6
         ],
         "y0": " ",
         "yaxis": "y"
        }
       ],
       "layout": {
        "boxmode": "group",
        "legend": {
         "tracegroupgap": 0
        },
        "margin": {
         "t": 60
        },
        "template": {
         "data": {
          "bar": [
           {
            "error_x": {
             "color": "#2a3f5f"
            },
            "error_y": {
             "color": "#2a3f5f"
            },
            "marker": {
             "line": {
              "color": "#E5ECF6",
              "width": 0.5
             },
             "pattern": {
              "fillmode": "overlay",
              "size": 10,
              "solidity": 0.2
             }
            },
            "type": "bar"
           }
          ],
          "barpolar": [
           {
            "marker": {
             "line": {
              "color": "#E5ECF6",
              "width": 0.5
             },
             "pattern": {
              "fillmode": "overlay",
              "size": 10,
              "solidity": 0.2
             }
            },
            "type": "barpolar"
           }
          ],
          "carpet": [
           {
            "aaxis": {
             "endlinecolor": "#2a3f5f",
             "gridcolor": "white",
             "linecolor": "white",
             "minorgridcolor": "white",
             "startlinecolor": "#2a3f5f"
            },
            "baxis": {
             "endlinecolor": "#2a3f5f",
             "gridcolor": "white",
             "linecolor": "white",
             "minorgridcolor": "white",
             "startlinecolor": "#2a3f5f"
            },
            "type": "carpet"
           }
          ],
          "choropleth": [
           {
            "colorbar": {
             "outlinewidth": 0,
             "ticks": ""
            },
            "type": "choropleth"
           }
          ],
          "contour": [
           {
            "colorbar": {
             "outlinewidth": 0,
             "ticks": ""
            },
            "colorscale": [
             [
              0,
              "#0d0887"
             ],
             [
              0.1111111111111111,
              "#46039f"
             ],
             [
              0.2222222222222222,
              "#7201a8"
             ],
             [
              0.3333333333333333,
              "#9c179e"
             ],
             [
              0.4444444444444444,
              "#bd3786"
             ],
             [
              0.5555555555555556,
              "#d8576b"
             ],
             [
              0.6666666666666666,
              "#ed7953"
             ],
             [
              0.7777777777777778,
              "#fb9f3a"
             ],
             [
              0.8888888888888888,
              "#fdca26"
             ],
             [
              1,
              "#f0f921"
             ]
            ],
            "type": "contour"
           }
          ],
          "contourcarpet": [
           {
            "colorbar": {
             "outlinewidth": 0,
             "ticks": ""
            },
            "type": "contourcarpet"
           }
          ],
          "heatmap": [
           {
            "colorbar": {
             "outlinewidth": 0,
             "ticks": ""
            },
            "colorscale": [
             [
              0,
              "#0d0887"
             ],
             [
              0.1111111111111111,
              "#46039f"
             ],
             [
              0.2222222222222222,
              "#7201a8"
             ],
             [
              0.3333333333333333,
              "#9c179e"
             ],
             [
              0.4444444444444444,
              "#bd3786"
             ],
             [
              0.5555555555555556,
              "#d8576b"
             ],
             [
              0.6666666666666666,
              "#ed7953"
             ],
             [
              0.7777777777777778,
              "#fb9f3a"
             ],
             [
              0.8888888888888888,
              "#fdca26"
             ],
             [
              1,
              "#f0f921"
             ]
            ],
            "type": "heatmap"
           }
          ],
          "heatmapgl": [
           {
            "colorbar": {
             "outlinewidth": 0,
             "ticks": ""
            },
            "colorscale": [
             [
              0,
              "#0d0887"
             ],
             [
              0.1111111111111111,
              "#46039f"
             ],
             [
              0.2222222222222222,
              "#7201a8"
             ],
             [
              0.3333333333333333,
              "#9c179e"
             ],
             [
              0.4444444444444444,
              "#bd3786"
             ],
             [
              0.5555555555555556,
              "#d8576b"
             ],
             [
              0.6666666666666666,
              "#ed7953"
             ],
             [
              0.7777777777777778,
              "#fb9f3a"
             ],
             [
              0.8888888888888888,
              "#fdca26"
             ],
             [
              1,
              "#f0f921"
             ]
            ],
            "type": "heatmapgl"
           }
          ],
          "histogram": [
           {
            "marker": {
             "pattern": {
              "fillmode": "overlay",
              "size": 10,
              "solidity": 0.2
             }
            },
            "type": "histogram"
           }
          ],
          "histogram2d": [
           {
            "colorbar": {
             "outlinewidth": 0,
             "ticks": ""
            },
            "colorscale": [
             [
              0,
              "#0d0887"
             ],
             [
              0.1111111111111111,
              "#46039f"
             ],
             [
              0.2222222222222222,
              "#7201a8"
             ],
             [
              0.3333333333333333,
              "#9c179e"
             ],
             [
              0.4444444444444444,
              "#bd3786"
             ],
             [
              0.5555555555555556,
              "#d8576b"
             ],
             [
              0.6666666666666666,
              "#ed7953"
             ],
             [
              0.7777777777777778,
              "#fb9f3a"
             ],
             [
              0.8888888888888888,
              "#fdca26"
             ],
             [
              1,
              "#f0f921"
             ]
            ],
            "type": "histogram2d"
           }
          ],
          "histogram2dcontour": [
           {
            "colorbar": {
             "outlinewidth": 0,
             "ticks": ""
            },
            "colorscale": [
             [
              0,
              "#0d0887"
             ],
             [
              0.1111111111111111,
              "#46039f"
             ],
             [
              0.2222222222222222,
              "#7201a8"
             ],
             [
              0.3333333333333333,
              "#9c179e"
             ],
             [
              0.4444444444444444,
              "#bd3786"
             ],
             [
              0.5555555555555556,
              "#d8576b"
             ],
             [
              0.6666666666666666,
              "#ed7953"
             ],
             [
              0.7777777777777778,
              "#fb9f3a"
             ],
             [
              0.8888888888888888,
              "#fdca26"
             ],
             [
              1,
              "#f0f921"
             ]
            ],
            "type": "histogram2dcontour"
           }
          ],
          "mesh3d": [
           {
            "colorbar": {
             "outlinewidth": 0,
             "ticks": ""
            },
            "type": "mesh3d"
           }
          ],
          "parcoords": [
           {
            "line": {
             "colorbar": {
              "outlinewidth": 0,
              "ticks": ""
             }
            },
            "type": "parcoords"
           }
          ],
          "pie": [
           {
            "automargin": true,
            "type": "pie"
           }
          ],
          "scatter": [
           {
            "fillpattern": {
             "fillmode": "overlay",
             "size": 10,
             "solidity": 0.2
            },
            "type": "scatter"
           }
          ],
          "scatter3d": [
           {
            "line": {
             "colorbar": {
              "outlinewidth": 0,
              "ticks": ""
             }
            },
            "marker": {
             "colorbar": {
              "outlinewidth": 0,
              "ticks": ""
             }
            },
            "type": "scatter3d"
           }
          ],
          "scattercarpet": [
           {
            "marker": {
             "colorbar": {
              "outlinewidth": 0,
              "ticks": ""
             }
            },
            "type": "scattercarpet"
           }
          ],
          "scattergeo": [
           {
            "marker": {
             "colorbar": {
              "outlinewidth": 0,
              "ticks": ""
             }
            },
            "type": "scattergeo"
           }
          ],
          "scattergl": [
           {
            "marker": {
             "colorbar": {
              "outlinewidth": 0,
              "ticks": ""
             }
            },
            "type": "scattergl"
           }
          ],
          "scattermapbox": [
           {
            "marker": {
             "colorbar": {
              "outlinewidth": 0,
              "ticks": ""
             }
            },
            "type": "scattermapbox"
           }
          ],
          "scatterpolar": [
           {
            "marker": {
             "colorbar": {
              "outlinewidth": 0,
              "ticks": ""
             }
            },
            "type": "scatterpolar"
           }
          ],
          "scatterpolargl": [
           {
            "marker": {
             "colorbar": {
              "outlinewidth": 0,
              "ticks": ""
             }
            },
            "type": "scatterpolargl"
           }
          ],
          "scatterternary": [
           {
            "marker": {
             "colorbar": {
              "outlinewidth": 0,
              "ticks": ""
             }
            },
            "type": "scatterternary"
           }
          ],
          "surface": [
           {
            "colorbar": {
             "outlinewidth": 0,
             "ticks": ""
            },
            "colorscale": [
             [
              0,
              "#0d0887"
             ],
             [
              0.1111111111111111,
              "#46039f"
             ],
             [
              0.2222222222222222,
              "#7201a8"
             ],
             [
              0.3333333333333333,
              "#9c179e"
             ],
             [
              0.4444444444444444,
              "#bd3786"
             ],
             [
              0.5555555555555556,
              "#d8576b"
             ],
             [
              0.6666666666666666,
              "#ed7953"
             ],
             [
              0.7777777777777778,
              "#fb9f3a"
             ],
             [
              0.8888888888888888,
              "#fdca26"
             ],
             [
              1,
              "#f0f921"
             ]
            ],
            "type": "surface"
           }
          ],
          "table": [
           {
            "cells": {
             "fill": {
              "color": "#EBF0F8"
             },
             "line": {
              "color": "white"
             }
            },
            "header": {
             "fill": {
              "color": "#C8D4E3"
             },
             "line": {
              "color": "white"
             }
            },
            "type": "table"
           }
          ]
         },
         "layout": {
          "annotationdefaults": {
           "arrowcolor": "#2a3f5f",
           "arrowhead": 0,
           "arrowwidth": 1
          },
          "autotypenumbers": "strict",
          "coloraxis": {
           "colorbar": {
            "outlinewidth": 0,
            "ticks": ""
           }
          },
          "colorscale": {
           "diverging": [
            [
             0,
             "#8e0152"
            ],
            [
             0.1,
             "#c51b7d"
            ],
            [
             0.2,
             "#de77ae"
            ],
            [
             0.3,
             "#f1b6da"
            ],
            [
             0.4,
             "#fde0ef"
            ],
            [
             0.5,
             "#f7f7f7"
            ],
            [
             0.6,
             "#e6f5d0"
            ],
            [
             0.7,
             "#b8e186"
            ],
            [
             0.8,
             "#7fbc41"
            ],
            [
             0.9,
             "#4d9221"
            ],
            [
             1,
             "#276419"
            ]
           ],
           "sequential": [
            [
             0,
             "#0d0887"
            ],
            [
             0.1111111111111111,
             "#46039f"
            ],
            [
             0.2222222222222222,
             "#7201a8"
            ],
            [
             0.3333333333333333,
             "#9c179e"
            ],
            [
             0.4444444444444444,
             "#bd3786"
            ],
            [
             0.5555555555555556,
             "#d8576b"
            ],
            [
             0.6666666666666666,
             "#ed7953"
            ],
            [
             0.7777777777777778,
             "#fb9f3a"
            ],
            [
             0.8888888888888888,
             "#fdca26"
            ],
            [
             1,
             "#f0f921"
            ]
           ],
           "sequentialminus": [
            [
             0,
             "#0d0887"
            ],
            [
             0.1111111111111111,
             "#46039f"
            ],
            [
             0.2222222222222222,
             "#7201a8"
            ],
            [
             0.3333333333333333,
             "#9c179e"
            ],
            [
             0.4444444444444444,
             "#bd3786"
            ],
            [
             0.5555555555555556,
             "#d8576b"
            ],
            [
             0.6666666666666666,
             "#ed7953"
            ],
            [
             0.7777777777777778,
             "#fb9f3a"
            ],
            [
             0.8888888888888888,
             "#fdca26"
            ],
            [
             1,
             "#f0f921"
            ]
           ]
          },
          "colorway": [
           "#636efa",
           "#EF553B",
           "#00cc96",
           "#ab63fa",
           "#FFA15A",
           "#19d3f3",
           "#FF6692",
           "#B6E880",
           "#FF97FF",
           "#FECB52"
          ],
          "font": {
           "color": "#2a3f5f"
          },
          "geo": {
           "bgcolor": "white",
           "lakecolor": "white",
           "landcolor": "#E5ECF6",
           "showlakes": true,
           "showland": true,
           "subunitcolor": "white"
          },
          "hoverlabel": {
           "align": "left"
          },
          "hovermode": "closest",
          "mapbox": {
           "style": "light"
          },
          "paper_bgcolor": "white",
          "plot_bgcolor": "#E5ECF6",
          "polar": {
           "angularaxis": {
            "gridcolor": "white",
            "linecolor": "white",
            "ticks": ""
           },
           "bgcolor": "#E5ECF6",
           "radialaxis": {
            "gridcolor": "white",
            "linecolor": "white",
            "ticks": ""
           }
          },
          "scene": {
           "xaxis": {
            "backgroundcolor": "#E5ECF6",
            "gridcolor": "white",
            "gridwidth": 2,
            "linecolor": "white",
            "showbackground": true,
            "ticks": "",
            "zerolinecolor": "white"
           },
           "yaxis": {
            "backgroundcolor": "#E5ECF6",
            "gridcolor": "white",
            "gridwidth": 2,
            "linecolor": "white",
            "showbackground": true,
            "ticks": "",
            "zerolinecolor": "white"
           },
           "zaxis": {
            "backgroundcolor": "#E5ECF6",
            "gridcolor": "white",
            "gridwidth": 2,
            "linecolor": "white",
            "showbackground": true,
            "ticks": "",
            "zerolinecolor": "white"
           }
          },
          "shapedefaults": {
           "line": {
            "color": "#2a3f5f"
           }
          },
          "ternary": {
           "aaxis": {
            "gridcolor": "white",
            "linecolor": "white",
            "ticks": ""
           },
           "baxis": {
            "gridcolor": "white",
            "linecolor": "white",
            "ticks": ""
           },
           "bgcolor": "#E5ECF6",
           "caxis": {
            "gridcolor": "white",
            "linecolor": "white",
            "ticks": ""
           }
          },
          "title": {
           "x": 0.05
          },
          "xaxis": {
           "automargin": true,
           "gridcolor": "white",
           "linecolor": "white",
           "ticks": "",
           "title": {
            "standoff": 15
           },
           "zerolinecolor": "white",
           "zerolinewidth": 2
          },
          "yaxis": {
           "automargin": true,
           "gridcolor": "white",
           "linecolor": "white",
           "ticks": "",
           "title": {
            "standoff": 15
           },
           "zerolinecolor": "white",
           "zerolinewidth": 2
          }
         }
        },
        "xaxis": {
         "anchor": "y",
         "domain": [
          0,
          1
         ],
         "title": {
          "text": "Genre"
         }
        },
        "yaxis": {
         "anchor": "x",
         "domain": [
          0,
          1
         ],
         "title": {
          "text": "Rating"
         }
        }
       }
      }
     },
     "metadata": {},
     "output_type": "display_data"
    }
   ],
   "source": [
    "c=['Adventure','RPG', 'Strategy', 'Brawler', 'Indie','Platform']\n",
    "fig = px.box(df1[(df1['Number of Reviews']>=250) & (df1['Year']>2018) & (df1['Sep_Genres'].isin(c))], x='Sep_Genres' ,y=\"Rating\", labels={'Sep_Genres':'Genre'})\n",
    "fig.show()"
   ]
  },
  {
   "attachments": {},
   "cell_type": "markdown",
   "metadata": {},
   "source": [
    "Ratings Distributions for games released in the past 5 years"
   ]
  },
  {
   "cell_type": "code",
   "execution_count": 39,
   "metadata": {},
   "outputs": [
    {
     "data": {
      "application/vnd.plotly.v1+json": {
       "config": {
        "plotlyServerURL": "https://plot.ly"
       },
       "data": [
        {
         "alignmentgroup": "True",
         "hovertemplate": "Genre=%{x}<br>Rating=%{y}<extra></extra>",
         "legendgroup": "",
         "marker": {
          "color": "#636efa"
         },
         "name": "",
         "notched": false,
         "offsetgroup": "",
         "orientation": "v",
         "showlegend": false,
         "type": "box",
         "x": [
          2022,
          2019,
          2020,
          2021,
          2019,
          2022,
          2022,
          2023,
          2020,
          2022,
          2022,
          2022,
          2020,
          2021,
          2019,
          2020,
          2022,
          2021,
          2019,
          2019,
          2021,
          2020,
          2020,
          2022,
          2019,
          2022,
          2020,
          2022,
          2021,
          2022,
          2021,
          2019,
          2020,
          2019,
          2019,
          2019,
          2023,
          2022,
          2023,
          2021,
          2023,
          2021,
          2022,
          2020,
          2021,
          2022,
          2019,
          2022,
          2019,
          2021,
          2022,
          2022,
          2022,
          2022,
          2019,
          2021,
          2023,
          2020,
          2021,
          2021,
          2023,
          2021,
          2021,
          2022,
          2022,
          2020,
          2022,
          2022,
          2020,
          2019,
          2019,
          2021,
          2022,
          2019,
          2021,
          2021,
          2020,
          2021,
          2021,
          2022,
          2022,
          2019,
          2022,
          2022,
          2021,
          2020,
          2019,
          2020,
          2021,
          2021,
          2019,
          2021,
          2019,
          2021,
          2020,
          2022,
          2019,
          2019,
          2021,
          2020,
          2021,
          2019,
          2021,
          2020,
          2019,
          2021,
          2023,
          2022,
          2022,
          2020,
          2022,
          2019,
          2021,
          2021,
          2019,
          2019,
          2022,
          2021,
          2019,
          2020,
          2020,
          2021,
          2021,
          2019,
          2019,
          2020,
          2020,
          2021,
          2020,
          2020,
          2021,
          2022,
          2023,
          2022,
          2022,
          2020,
          2019,
          2021,
          2019,
          2021,
          2020,
          2021,
          2019,
          2021,
          2019,
          2022,
          2019,
          2022,
          2019,
          2022,
          2020,
          2021,
          2020,
          2019,
          2020,
          2023,
          2021,
          2021,
          2019,
          2022,
          2021,
          2020,
          2019,
          2021,
          2019,
          2019,
          2022,
          2019,
          2020,
          2019,
          2019,
          2020,
          2021,
          2020,
          2022,
          2021,
          2020,
          2021,
          2022,
          2021,
          2020,
          2020,
          2021,
          2021,
          2020,
          2019,
          2020,
          2019,
          2019,
          2019,
          2020,
          2019,
          2019,
          2019
         ],
         "x0": " ",
         "xaxis": "x",
         "y": [
          4.5,
          4.3,
          4.2,
          4.3,
          4.4,
          3.7,
          3.7,
          4.3,
          3.3,
          4.4,
          4.4,
          4.2,
          4.6,
          4.2,
          4.4,
          2.6,
          4.2,
          3.9,
          4.6,
          4.3,
          3.8,
          4.1,
          4.2,
          4.1,
          4.3,
          2.7,
          4.1,
          3.6,
          4.1,
          3.9,
          4.3,
          3.9,
          3.9,
          3.7,
          4,
          4.4,
          3.9,
          3.5,
          4.5,
          4.2,
          4.5,
          3.3,
          2.8,
          4.3,
          3.8,
          3.6,
          3.6,
          4.1,
          4.1,
          3.5,
          3.8,
          3.8,
          4.1,
          3.7,
          4.6,
          3.9,
          3.5,
          3.2,
          3.6,
          3.6,
          4.3,
          4,
          4.2,
          3.5,
          3.8,
          3.7,
          3.6,
          4.1,
          3.9,
          3.7,
          3.9,
          4,
          3.9,
          4.2,
          3.8,
          3.9,
          4,
          3.8,
          4,
          4.1,
          3.1,
          3.7,
          3.9,
          4.4,
          4.5,
          3.3,
          2.9,
          2.5,
          4.1,
          3.5,
          3.6,
          4.2,
          4,
          3.6,
          3.5,
          3.6,
          3.6,
          3.7,
          3.5,
          3.9,
          4,
          3.9,
          3.7,
          4.1,
          3.8,
          3.7,
          4.4,
          3.9,
          3.7,
          3.7,
          3.7,
          4.3,
          4.2,
          4.1,
          4.4,
          3.4,
          3.1,
          3.8,
          3,
          4.1,
          4,
          2.7,
          3.8,
          2.5,
          3.6,
          3.5,
          3,
          4.2,
          4.3,
          3.6,
          3.8,
          3.8,
          3,
          3,
          4.3,
          4.3,
          3.5,
          4.3,
          3.1,
          2.4,
          3.3,
          4.6,
          4.1,
          3.7,
          3.2,
          2.9,
          4.1,
          3.1,
          3.7,
          3.3,
          3.8,
          3.6,
          4.2,
          3.2,
          4,
          3.5,
          4.2,
          3.9,
          3.6,
          4,
          2.7,
          4.1,
          4.3,
          3.7,
          4.6,
          3.2,
          2.7,
          3.8,
          3.6,
          2.9,
          3.4,
          3.9,
          2.5,
          3.5,
          3.9,
          2.5,
          4.6,
          4.2,
          3.5,
          3.3,
          3.3,
          4.5,
          2.9,
          3.9,
          3.7,
          4.1,
          3.5,
          3.2,
          3.4,
          3.5,
          4.1,
          3.9,
          3.6,
          2.9
         ],
         "y0": " ",
         "yaxis": "y"
        }
       ],
       "layout": {
        "boxmode": "group",
        "legend": {
         "tracegroupgap": 0
        },
        "margin": {
         "t": 60
        },
        "template": {
         "data": {
          "bar": [
           {
            "error_x": {
             "color": "#2a3f5f"
            },
            "error_y": {
             "color": "#2a3f5f"
            },
            "marker": {
             "line": {
              "color": "#E5ECF6",
              "width": 0.5
             },
             "pattern": {
              "fillmode": "overlay",
              "size": 10,
              "solidity": 0.2
             }
            },
            "type": "bar"
           }
          ],
          "barpolar": [
           {
            "marker": {
             "line": {
              "color": "#E5ECF6",
              "width": 0.5
             },
             "pattern": {
              "fillmode": "overlay",
              "size": 10,
              "solidity": 0.2
             }
            },
            "type": "barpolar"
           }
          ],
          "carpet": [
           {
            "aaxis": {
             "endlinecolor": "#2a3f5f",
             "gridcolor": "white",
             "linecolor": "white",
             "minorgridcolor": "white",
             "startlinecolor": "#2a3f5f"
            },
            "baxis": {
             "endlinecolor": "#2a3f5f",
             "gridcolor": "white",
             "linecolor": "white",
             "minorgridcolor": "white",
             "startlinecolor": "#2a3f5f"
            },
            "type": "carpet"
           }
          ],
          "choropleth": [
           {
            "colorbar": {
             "outlinewidth": 0,
             "ticks": ""
            },
            "type": "choropleth"
           }
          ],
          "contour": [
           {
            "colorbar": {
             "outlinewidth": 0,
             "ticks": ""
            },
            "colorscale": [
             [
              0,
              "#0d0887"
             ],
             [
              0.1111111111111111,
              "#46039f"
             ],
             [
              0.2222222222222222,
              "#7201a8"
             ],
             [
              0.3333333333333333,
              "#9c179e"
             ],
             [
              0.4444444444444444,
              "#bd3786"
             ],
             [
              0.5555555555555556,
              "#d8576b"
             ],
             [
              0.6666666666666666,
              "#ed7953"
             ],
             [
              0.7777777777777778,
              "#fb9f3a"
             ],
             [
              0.8888888888888888,
              "#fdca26"
             ],
             [
              1,
              "#f0f921"
             ]
            ],
            "type": "contour"
           }
          ],
          "contourcarpet": [
           {
            "colorbar": {
             "outlinewidth": 0,
             "ticks": ""
            },
            "type": "contourcarpet"
           }
          ],
          "heatmap": [
           {
            "colorbar": {
             "outlinewidth": 0,
             "ticks": ""
            },
            "colorscale": [
             [
              0,
              "#0d0887"
             ],
             [
              0.1111111111111111,
              "#46039f"
             ],
             [
              0.2222222222222222,
              "#7201a8"
             ],
             [
              0.3333333333333333,
              "#9c179e"
             ],
             [
              0.4444444444444444,
              "#bd3786"
             ],
             [
              0.5555555555555556,
              "#d8576b"
             ],
             [
              0.6666666666666666,
              "#ed7953"
             ],
             [
              0.7777777777777778,
              "#fb9f3a"
             ],
             [
              0.8888888888888888,
              "#fdca26"
             ],
             [
              1,
              "#f0f921"
             ]
            ],
            "type": "heatmap"
           }
          ],
          "heatmapgl": [
           {
            "colorbar": {
             "outlinewidth": 0,
             "ticks": ""
            },
            "colorscale": [
             [
              0,
              "#0d0887"
             ],
             [
              0.1111111111111111,
              "#46039f"
             ],
             [
              0.2222222222222222,
              "#7201a8"
             ],
             [
              0.3333333333333333,
              "#9c179e"
             ],
             [
              0.4444444444444444,
              "#bd3786"
             ],
             [
              0.5555555555555556,
              "#d8576b"
             ],
             [
              0.6666666666666666,
              "#ed7953"
             ],
             [
              0.7777777777777778,
              "#fb9f3a"
             ],
             [
              0.8888888888888888,
              "#fdca26"
             ],
             [
              1,
              "#f0f921"
             ]
            ],
            "type": "heatmapgl"
           }
          ],
          "histogram": [
           {
            "marker": {
             "pattern": {
              "fillmode": "overlay",
              "size": 10,
              "solidity": 0.2
             }
            },
            "type": "histogram"
           }
          ],
          "histogram2d": [
           {
            "colorbar": {
             "outlinewidth": 0,
             "ticks": ""
            },
            "colorscale": [
             [
              0,
              "#0d0887"
             ],
             [
              0.1111111111111111,
              "#46039f"
             ],
             [
              0.2222222222222222,
              "#7201a8"
             ],
             [
              0.3333333333333333,
              "#9c179e"
             ],
             [
              0.4444444444444444,
              "#bd3786"
             ],
             [
              0.5555555555555556,
              "#d8576b"
             ],
             [
              0.6666666666666666,
              "#ed7953"
             ],
             [
              0.7777777777777778,
              "#fb9f3a"
             ],
             [
              0.8888888888888888,
              "#fdca26"
             ],
             [
              1,
              "#f0f921"
             ]
            ],
            "type": "histogram2d"
           }
          ],
          "histogram2dcontour": [
           {
            "colorbar": {
             "outlinewidth": 0,
             "ticks": ""
            },
            "colorscale": [
             [
              0,
              "#0d0887"
             ],
             [
              0.1111111111111111,
              "#46039f"
             ],
             [
              0.2222222222222222,
              "#7201a8"
             ],
             [
              0.3333333333333333,
              "#9c179e"
             ],
             [
              0.4444444444444444,
              "#bd3786"
             ],
             [
              0.5555555555555556,
              "#d8576b"
             ],
             [
              0.6666666666666666,
              "#ed7953"
             ],
             [
              0.7777777777777778,
              "#fb9f3a"
             ],
             [
              0.8888888888888888,
              "#fdca26"
             ],
             [
              1,
              "#f0f921"
             ]
            ],
            "type": "histogram2dcontour"
           }
          ],
          "mesh3d": [
           {
            "colorbar": {
             "outlinewidth": 0,
             "ticks": ""
            },
            "type": "mesh3d"
           }
          ],
          "parcoords": [
           {
            "line": {
             "colorbar": {
              "outlinewidth": 0,
              "ticks": ""
             }
            },
            "type": "parcoords"
           }
          ],
          "pie": [
           {
            "automargin": true,
            "type": "pie"
           }
          ],
          "scatter": [
           {
            "fillpattern": {
             "fillmode": "overlay",
             "size": 10,
             "solidity": 0.2
            },
            "type": "scatter"
           }
          ],
          "scatter3d": [
           {
            "line": {
             "colorbar": {
              "outlinewidth": 0,
              "ticks": ""
             }
            },
            "marker": {
             "colorbar": {
              "outlinewidth": 0,
              "ticks": ""
             }
            },
            "type": "scatter3d"
           }
          ],
          "scattercarpet": [
           {
            "marker": {
             "colorbar": {
              "outlinewidth": 0,
              "ticks": ""
             }
            },
            "type": "scattercarpet"
           }
          ],
          "scattergeo": [
           {
            "marker": {
             "colorbar": {
              "outlinewidth": 0,
              "ticks": ""
             }
            },
            "type": "scattergeo"
           }
          ],
          "scattergl": [
           {
            "marker": {
             "colorbar": {
              "outlinewidth": 0,
              "ticks": ""
             }
            },
            "type": "scattergl"
           }
          ],
          "scattermapbox": [
           {
            "marker": {
             "colorbar": {
              "outlinewidth": 0,
              "ticks": ""
             }
            },
            "type": "scattermapbox"
           }
          ],
          "scatterpolar": [
           {
            "marker": {
             "colorbar": {
              "outlinewidth": 0,
              "ticks": ""
             }
            },
            "type": "scatterpolar"
           }
          ],
          "scatterpolargl": [
           {
            "marker": {
             "colorbar": {
              "outlinewidth": 0,
              "ticks": ""
             }
            },
            "type": "scatterpolargl"
           }
          ],
          "scatterternary": [
           {
            "marker": {
             "colorbar": {
              "outlinewidth": 0,
              "ticks": ""
             }
            },
            "type": "scatterternary"
           }
          ],
          "surface": [
           {
            "colorbar": {
             "outlinewidth": 0,
             "ticks": ""
            },
            "colorscale": [
             [
              0,
              "#0d0887"
             ],
             [
              0.1111111111111111,
              "#46039f"
             ],
             [
              0.2222222222222222,
              "#7201a8"
             ],
             [
              0.3333333333333333,
              "#9c179e"
             ],
             [
              0.4444444444444444,
              "#bd3786"
             ],
             [
              0.5555555555555556,
              "#d8576b"
             ],
             [
              0.6666666666666666,
              "#ed7953"
             ],
             [
              0.7777777777777778,
              "#fb9f3a"
             ],
             [
              0.8888888888888888,
              "#fdca26"
             ],
             [
              1,
              "#f0f921"
             ]
            ],
            "type": "surface"
           }
          ],
          "table": [
           {
            "cells": {
             "fill": {
              "color": "#EBF0F8"
             },
             "line": {
              "color": "white"
             }
            },
            "header": {
             "fill": {
              "color": "#C8D4E3"
             },
             "line": {
              "color": "white"
             }
            },
            "type": "table"
           }
          ]
         },
         "layout": {
          "annotationdefaults": {
           "arrowcolor": "#2a3f5f",
           "arrowhead": 0,
           "arrowwidth": 1
          },
          "autotypenumbers": "strict",
          "coloraxis": {
           "colorbar": {
            "outlinewidth": 0,
            "ticks": ""
           }
          },
          "colorscale": {
           "diverging": [
            [
             0,
             "#8e0152"
            ],
            [
             0.1,
             "#c51b7d"
            ],
            [
             0.2,
             "#de77ae"
            ],
            [
             0.3,
             "#f1b6da"
            ],
            [
             0.4,
             "#fde0ef"
            ],
            [
             0.5,
             "#f7f7f7"
            ],
            [
             0.6,
             "#e6f5d0"
            ],
            [
             0.7,
             "#b8e186"
            ],
            [
             0.8,
             "#7fbc41"
            ],
            [
             0.9,
             "#4d9221"
            ],
            [
             1,
             "#276419"
            ]
           ],
           "sequential": [
            [
             0,
             "#0d0887"
            ],
            [
             0.1111111111111111,
             "#46039f"
            ],
            [
             0.2222222222222222,
             "#7201a8"
            ],
            [
             0.3333333333333333,
             "#9c179e"
            ],
            [
             0.4444444444444444,
             "#bd3786"
            ],
            [
             0.5555555555555556,
             "#d8576b"
            ],
            [
             0.6666666666666666,
             "#ed7953"
            ],
            [
             0.7777777777777778,
             "#fb9f3a"
            ],
            [
             0.8888888888888888,
             "#fdca26"
            ],
            [
             1,
             "#f0f921"
            ]
           ],
           "sequentialminus": [
            [
             0,
             "#0d0887"
            ],
            [
             0.1111111111111111,
             "#46039f"
            ],
            [
             0.2222222222222222,
             "#7201a8"
            ],
            [
             0.3333333333333333,
             "#9c179e"
            ],
            [
             0.4444444444444444,
             "#bd3786"
            ],
            [
             0.5555555555555556,
             "#d8576b"
            ],
            [
             0.6666666666666666,
             "#ed7953"
            ],
            [
             0.7777777777777778,
             "#fb9f3a"
            ],
            [
             0.8888888888888888,
             "#fdca26"
            ],
            [
             1,
             "#f0f921"
            ]
           ]
          },
          "colorway": [
           "#636efa",
           "#EF553B",
           "#00cc96",
           "#ab63fa",
           "#FFA15A",
           "#19d3f3",
           "#FF6692",
           "#B6E880",
           "#FF97FF",
           "#FECB52"
          ],
          "font": {
           "color": "#2a3f5f"
          },
          "geo": {
           "bgcolor": "white",
           "lakecolor": "white",
           "landcolor": "#E5ECF6",
           "showlakes": true,
           "showland": true,
           "subunitcolor": "white"
          },
          "hoverlabel": {
           "align": "left"
          },
          "hovermode": "closest",
          "mapbox": {
           "style": "light"
          },
          "paper_bgcolor": "white",
          "plot_bgcolor": "#E5ECF6",
          "polar": {
           "angularaxis": {
            "gridcolor": "white",
            "linecolor": "white",
            "ticks": ""
           },
           "bgcolor": "#E5ECF6",
           "radialaxis": {
            "gridcolor": "white",
            "linecolor": "white",
            "ticks": ""
           }
          },
          "scene": {
           "xaxis": {
            "backgroundcolor": "#E5ECF6",
            "gridcolor": "white",
            "gridwidth": 2,
            "linecolor": "white",
            "showbackground": true,
            "ticks": "",
            "zerolinecolor": "white"
           },
           "yaxis": {
            "backgroundcolor": "#E5ECF6",
            "gridcolor": "white",
            "gridwidth": 2,
            "linecolor": "white",
            "showbackground": true,
            "ticks": "",
            "zerolinecolor": "white"
           },
           "zaxis": {
            "backgroundcolor": "#E5ECF6",
            "gridcolor": "white",
            "gridwidth": 2,
            "linecolor": "white",
            "showbackground": true,
            "ticks": "",
            "zerolinecolor": "white"
           }
          },
          "shapedefaults": {
           "line": {
            "color": "#2a3f5f"
           }
          },
          "ternary": {
           "aaxis": {
            "gridcolor": "white",
            "linecolor": "white",
            "ticks": ""
           },
           "baxis": {
            "gridcolor": "white",
            "linecolor": "white",
            "ticks": ""
           },
           "bgcolor": "#E5ECF6",
           "caxis": {
            "gridcolor": "white",
            "linecolor": "white",
            "ticks": ""
           }
          },
          "title": {
           "x": 0.05
          },
          "xaxis": {
           "automargin": true,
           "gridcolor": "white",
           "linecolor": "white",
           "ticks": "",
           "title": {
            "standoff": 15
           },
           "zerolinecolor": "white",
           "zerolinewidth": 2
          },
          "yaxis": {
           "automargin": true,
           "gridcolor": "white",
           "linecolor": "white",
           "ticks": "",
           "title": {
            "standoff": 15
           },
           "zerolinecolor": "white",
           "zerolinewidth": 2
          }
         }
        },
        "xaxis": {
         "anchor": "y",
         "domain": [
          0,
          1
         ],
         "title": {
          "text": "Genre"
         }
        },
        "yaxis": {
         "anchor": "x",
         "domain": [
          0,
          1
         ],
         "title": {
          "text": "Rating"
         }
        }
       }
      }
     },
     "metadata": {},
     "output_type": "display_data"
    }
   ],
   "source": [
    "fig = px.box(df[['Rating','Year','Number of Reviews']][(df['Year']>=2019)&(df['Number of Reviews']>=250)], x='Year' ,y=\"Rating\", labels={'Year':'Genre'})\n",
    "fig.show()"
   ]
  },
  {
   "attachments": {},
   "cell_type": "markdown",
   "metadata": {},
   "source": [
    "Genres earning 4* or higher ratings, including only the games receiving 250+ reviews"
   ]
  },
  {
   "cell_type": "code",
   "execution_count": 42,
   "metadata": {},
   "outputs": [
    {
     "data": {
      "application/vnd.plotly.v1+json": {
       "config": {
        "plotlyServerURL": "https://plot.ly"
       },
       "data": [
        {
         "domain": {
          "x": [
           0,
           1
          ],
          "y": [
           0,
           1
          ]
         },
         "hovertemplate": "Genre=%{label}<br>Title=%{value}<extra></extra>",
         "labels": [
          "Adventure",
          "RPG",
          "Platform",
          "Indie",
          "Shooter",
          "Brawler",
          "Puzzle",
          "Strategy",
          "Turn Based Strategy",
          "Arcade",
          "Card & Board Game",
          "Music",
          "Simulator",
          "Tactical",
          "Visual Novel"
         ],
         "legendgroup": "",
         "name": "",
         "showlegend": true,
         "type": "pie",
         "values": [
          31,
          17,
          13,
          10,
          9,
          5,
          5,
          2,
          2,
          1,
          1,
          1,
          1,
          1,
          1
         ]
        }
       ],
       "layout": {
        "legend": {
         "tracegroupgap": 0
        },
        "template": {
         "data": {
          "bar": [
           {
            "error_x": {
             "color": "#2a3f5f"
            },
            "error_y": {
             "color": "#2a3f5f"
            },
            "marker": {
             "line": {
              "color": "#E5ECF6",
              "width": 0.5
             },
             "pattern": {
              "fillmode": "overlay",
              "size": 10,
              "solidity": 0.2
             }
            },
            "type": "bar"
           }
          ],
          "barpolar": [
           {
            "marker": {
             "line": {
              "color": "#E5ECF6",
              "width": 0.5
             },
             "pattern": {
              "fillmode": "overlay",
              "size": 10,
              "solidity": 0.2
             }
            },
            "type": "barpolar"
           }
          ],
          "carpet": [
           {
            "aaxis": {
             "endlinecolor": "#2a3f5f",
             "gridcolor": "white",
             "linecolor": "white",
             "minorgridcolor": "white",
             "startlinecolor": "#2a3f5f"
            },
            "baxis": {
             "endlinecolor": "#2a3f5f",
             "gridcolor": "white",
             "linecolor": "white",
             "minorgridcolor": "white",
             "startlinecolor": "#2a3f5f"
            },
            "type": "carpet"
           }
          ],
          "choropleth": [
           {
            "colorbar": {
             "outlinewidth": 0,
             "ticks": ""
            },
            "type": "choropleth"
           }
          ],
          "contour": [
           {
            "colorbar": {
             "outlinewidth": 0,
             "ticks": ""
            },
            "colorscale": [
             [
              0,
              "#0d0887"
             ],
             [
              0.1111111111111111,
              "#46039f"
             ],
             [
              0.2222222222222222,
              "#7201a8"
             ],
             [
              0.3333333333333333,
              "#9c179e"
             ],
             [
              0.4444444444444444,
              "#bd3786"
             ],
             [
              0.5555555555555556,
              "#d8576b"
             ],
             [
              0.6666666666666666,
              "#ed7953"
             ],
             [
              0.7777777777777778,
              "#fb9f3a"
             ],
             [
              0.8888888888888888,
              "#fdca26"
             ],
             [
              1,
              "#f0f921"
             ]
            ],
            "type": "contour"
           }
          ],
          "contourcarpet": [
           {
            "colorbar": {
             "outlinewidth": 0,
             "ticks": ""
            },
            "type": "contourcarpet"
           }
          ],
          "heatmap": [
           {
            "colorbar": {
             "outlinewidth": 0,
             "ticks": ""
            },
            "colorscale": [
             [
              0,
              "#0d0887"
             ],
             [
              0.1111111111111111,
              "#46039f"
             ],
             [
              0.2222222222222222,
              "#7201a8"
             ],
             [
              0.3333333333333333,
              "#9c179e"
             ],
             [
              0.4444444444444444,
              "#bd3786"
             ],
             [
              0.5555555555555556,
              "#d8576b"
             ],
             [
              0.6666666666666666,
              "#ed7953"
             ],
             [
              0.7777777777777778,
              "#fb9f3a"
             ],
             [
              0.8888888888888888,
              "#fdca26"
             ],
             [
              1,
              "#f0f921"
             ]
            ],
            "type": "heatmap"
           }
          ],
          "heatmapgl": [
           {
            "colorbar": {
             "outlinewidth": 0,
             "ticks": ""
            },
            "colorscale": [
             [
              0,
              "#0d0887"
             ],
             [
              0.1111111111111111,
              "#46039f"
             ],
             [
              0.2222222222222222,
              "#7201a8"
             ],
             [
              0.3333333333333333,
              "#9c179e"
             ],
             [
              0.4444444444444444,
              "#bd3786"
             ],
             [
              0.5555555555555556,
              "#d8576b"
             ],
             [
              0.6666666666666666,
              "#ed7953"
             ],
             [
              0.7777777777777778,
              "#fb9f3a"
             ],
             [
              0.8888888888888888,
              "#fdca26"
             ],
             [
              1,
              "#f0f921"
             ]
            ],
            "type": "heatmapgl"
           }
          ],
          "histogram": [
           {
            "marker": {
             "pattern": {
              "fillmode": "overlay",
              "size": 10,
              "solidity": 0.2
             }
            },
            "type": "histogram"
           }
          ],
          "histogram2d": [
           {
            "colorbar": {
             "outlinewidth": 0,
             "ticks": ""
            },
            "colorscale": [
             [
              0,
              "#0d0887"
             ],
             [
              0.1111111111111111,
              "#46039f"
             ],
             [
              0.2222222222222222,
              "#7201a8"
             ],
             [
              0.3333333333333333,
              "#9c179e"
             ],
             [
              0.4444444444444444,
              "#bd3786"
             ],
             [
              0.5555555555555556,
              "#d8576b"
             ],
             [
              0.6666666666666666,
              "#ed7953"
             ],
             [
              0.7777777777777778,
              "#fb9f3a"
             ],
             [
              0.8888888888888888,
              "#fdca26"
             ],
             [
              1,
              "#f0f921"
             ]
            ],
            "type": "histogram2d"
           }
          ],
          "histogram2dcontour": [
           {
            "colorbar": {
             "outlinewidth": 0,
             "ticks": ""
            },
            "colorscale": [
             [
              0,
              "#0d0887"
             ],
             [
              0.1111111111111111,
              "#46039f"
             ],
             [
              0.2222222222222222,
              "#7201a8"
             ],
             [
              0.3333333333333333,
              "#9c179e"
             ],
             [
              0.4444444444444444,
              "#bd3786"
             ],
             [
              0.5555555555555556,
              "#d8576b"
             ],
             [
              0.6666666666666666,
              "#ed7953"
             ],
             [
              0.7777777777777778,
              "#fb9f3a"
             ],
             [
              0.8888888888888888,
              "#fdca26"
             ],
             [
              1,
              "#f0f921"
             ]
            ],
            "type": "histogram2dcontour"
           }
          ],
          "mesh3d": [
           {
            "colorbar": {
             "outlinewidth": 0,
             "ticks": ""
            },
            "type": "mesh3d"
           }
          ],
          "parcoords": [
           {
            "line": {
             "colorbar": {
              "outlinewidth": 0,
              "ticks": ""
             }
            },
            "type": "parcoords"
           }
          ],
          "pie": [
           {
            "automargin": true,
            "type": "pie"
           }
          ],
          "scatter": [
           {
            "fillpattern": {
             "fillmode": "overlay",
             "size": 10,
             "solidity": 0.2
            },
            "type": "scatter"
           }
          ],
          "scatter3d": [
           {
            "line": {
             "colorbar": {
              "outlinewidth": 0,
              "ticks": ""
             }
            },
            "marker": {
             "colorbar": {
              "outlinewidth": 0,
              "ticks": ""
             }
            },
            "type": "scatter3d"
           }
          ],
          "scattercarpet": [
           {
            "marker": {
             "colorbar": {
              "outlinewidth": 0,
              "ticks": ""
             }
            },
            "type": "scattercarpet"
           }
          ],
          "scattergeo": [
           {
            "marker": {
             "colorbar": {
              "outlinewidth": 0,
              "ticks": ""
             }
            },
            "type": "scattergeo"
           }
          ],
          "scattergl": [
           {
            "marker": {
             "colorbar": {
              "outlinewidth": 0,
              "ticks": ""
             }
            },
            "type": "scattergl"
           }
          ],
          "scattermapbox": [
           {
            "marker": {
             "colorbar": {
              "outlinewidth": 0,
              "ticks": ""
             }
            },
            "type": "scattermapbox"
           }
          ],
          "scatterpolar": [
           {
            "marker": {
             "colorbar": {
              "outlinewidth": 0,
              "ticks": ""
             }
            },
            "type": "scatterpolar"
           }
          ],
          "scatterpolargl": [
           {
            "marker": {
             "colorbar": {
              "outlinewidth": 0,
              "ticks": ""
             }
            },
            "type": "scatterpolargl"
           }
          ],
          "scatterternary": [
           {
            "marker": {
             "colorbar": {
              "outlinewidth": 0,
              "ticks": ""
             }
            },
            "type": "scatterternary"
           }
          ],
          "surface": [
           {
            "colorbar": {
             "outlinewidth": 0,
             "ticks": ""
            },
            "colorscale": [
             [
              0,
              "#0d0887"
             ],
             [
              0.1111111111111111,
              "#46039f"
             ],
             [
              0.2222222222222222,
              "#7201a8"
             ],
             [
              0.3333333333333333,
              "#9c179e"
             ],
             [
              0.4444444444444444,
              "#bd3786"
             ],
             [
              0.5555555555555556,
              "#d8576b"
             ],
             [
              0.6666666666666666,
              "#ed7953"
             ],
             [
              0.7777777777777778,
              "#fb9f3a"
             ],
             [
              0.8888888888888888,
              "#fdca26"
             ],
             [
              1,
              "#f0f921"
             ]
            ],
            "type": "surface"
           }
          ],
          "table": [
           {
            "cells": {
             "fill": {
              "color": "#EBF0F8"
             },
             "line": {
              "color": "white"
             }
            },
            "header": {
             "fill": {
              "color": "#C8D4E3"
             },
             "line": {
              "color": "white"
             }
            },
            "type": "table"
           }
          ]
         },
         "layout": {
          "annotationdefaults": {
           "arrowcolor": "#2a3f5f",
           "arrowhead": 0,
           "arrowwidth": 1
          },
          "autotypenumbers": "strict",
          "coloraxis": {
           "colorbar": {
            "outlinewidth": 0,
            "ticks": ""
           }
          },
          "colorscale": {
           "diverging": [
            [
             0,
             "#8e0152"
            ],
            [
             0.1,
             "#c51b7d"
            ],
            [
             0.2,
             "#de77ae"
            ],
            [
             0.3,
             "#f1b6da"
            ],
            [
             0.4,
             "#fde0ef"
            ],
            [
             0.5,
             "#f7f7f7"
            ],
            [
             0.6,
             "#e6f5d0"
            ],
            [
             0.7,
             "#b8e186"
            ],
            [
             0.8,
             "#7fbc41"
            ],
            [
             0.9,
             "#4d9221"
            ],
            [
             1,
             "#276419"
            ]
           ],
           "sequential": [
            [
             0,
             "#0d0887"
            ],
            [
             0.1111111111111111,
             "#46039f"
            ],
            [
             0.2222222222222222,
             "#7201a8"
            ],
            [
             0.3333333333333333,
             "#9c179e"
            ],
            [
             0.4444444444444444,
             "#bd3786"
            ],
            [
             0.5555555555555556,
             "#d8576b"
            ],
            [
             0.6666666666666666,
             "#ed7953"
            ],
            [
             0.7777777777777778,
             "#fb9f3a"
            ],
            [
             0.8888888888888888,
             "#fdca26"
            ],
            [
             1,
             "#f0f921"
            ]
           ],
           "sequentialminus": [
            [
             0,
             "#0d0887"
            ],
            [
             0.1111111111111111,
             "#46039f"
            ],
            [
             0.2222222222222222,
             "#7201a8"
            ],
            [
             0.3333333333333333,
             "#9c179e"
            ],
            [
             0.4444444444444444,
             "#bd3786"
            ],
            [
             0.5555555555555556,
             "#d8576b"
            ],
            [
             0.6666666666666666,
             "#ed7953"
            ],
            [
             0.7777777777777778,
             "#fb9f3a"
            ],
            [
             0.8888888888888888,
             "#fdca26"
            ],
            [
             1,
             "#f0f921"
            ]
           ]
          },
          "colorway": [
           "#636efa",
           "#EF553B",
           "#00cc96",
           "#ab63fa",
           "#FFA15A",
           "#19d3f3",
           "#FF6692",
           "#B6E880",
           "#FF97FF",
           "#FECB52"
          ],
          "font": {
           "color": "#2a3f5f"
          },
          "geo": {
           "bgcolor": "white",
           "lakecolor": "white",
           "landcolor": "#E5ECF6",
           "showlakes": true,
           "showland": true,
           "subunitcolor": "white"
          },
          "hoverlabel": {
           "align": "left"
          },
          "hovermode": "closest",
          "mapbox": {
           "style": "light"
          },
          "paper_bgcolor": "white",
          "plot_bgcolor": "#E5ECF6",
          "polar": {
           "angularaxis": {
            "gridcolor": "white",
            "linecolor": "white",
            "ticks": ""
           },
           "bgcolor": "#E5ECF6",
           "radialaxis": {
            "gridcolor": "white",
            "linecolor": "white",
            "ticks": ""
           }
          },
          "scene": {
           "xaxis": {
            "backgroundcolor": "#E5ECF6",
            "gridcolor": "white",
            "gridwidth": 2,
            "linecolor": "white",
            "showbackground": true,
            "ticks": "",
            "zerolinecolor": "white"
           },
           "yaxis": {
            "backgroundcolor": "#E5ECF6",
            "gridcolor": "white",
            "gridwidth": 2,
            "linecolor": "white",
            "showbackground": true,
            "ticks": "",
            "zerolinecolor": "white"
           },
           "zaxis": {
            "backgroundcolor": "#E5ECF6",
            "gridcolor": "white",
            "gridwidth": 2,
            "linecolor": "white",
            "showbackground": true,
            "ticks": "",
            "zerolinecolor": "white"
           }
          },
          "shapedefaults": {
           "line": {
            "color": "#2a3f5f"
           }
          },
          "ternary": {
           "aaxis": {
            "gridcolor": "white",
            "linecolor": "white",
            "ticks": ""
           },
           "baxis": {
            "gridcolor": "white",
            "linecolor": "white",
            "ticks": ""
           },
           "bgcolor": "#E5ECF6",
           "caxis": {
            "gridcolor": "white",
            "linecolor": "white",
            "ticks": ""
           }
          },
          "title": {
           "x": 0.05
          },
          "xaxis": {
           "automargin": true,
           "gridcolor": "white",
           "linecolor": "white",
           "ticks": "",
           "title": {
            "standoff": 15
           },
           "zerolinecolor": "white",
           "zerolinewidth": 2
          },
          "yaxis": {
           "automargin": true,
           "gridcolor": "white",
           "linecolor": "white",
           "ticks": "",
           "title": {
            "standoff": 15
           },
           "zerolinecolor": "white",
           "zerolinewidth": 2
          }
         }
        },
        "title": {
         "text": "Videogames Genres Receiving 4*+ Ratings and their frequency in the past 3 years"
        }
       }
      }
     },
     "metadata": {},
     "output_type": "display_data"
    }
   ],
   "source": [
    "ax =df1[(df1['Rating']>=4) & (df1['Number of Reviews']>=250) & (df1['Year']>=2021)].groupby('Sep_Genres').count()['Title']\\\n",
    "    .sort_values(ascending=False).reset_index()\n",
    "px.pie(ax, values='Title', names='Sep_Genres',labels={'Sep_Genres':'Genre'} ,title='Videogames Genres Receiving 4*+ Ratings and their frequency in the past 3 years')"
   ]
  },
  {
   "cell_type": "code",
   "execution_count": null,
   "metadata": {},
   "outputs": [],
   "source": []
  }
 ],
 "metadata": {
  "kernelspec": {
   "display_name": "Python 3 (ipykernel)",
   "language": "python",
   "name": "python3"
  },
  "language_info": {
   "codemirror_mode": {
    "name": "ipython",
    "version": 3
   },
   "file_extension": ".py",
   "mimetype": "text/x-python",
   "name": "python",
   "nbconvert_exporter": "python",
   "pygments_lexer": "ipython3",
   "version": "3.9.13"
  }
 },
 "nbformat": 4,
 "nbformat_minor": 2
}
